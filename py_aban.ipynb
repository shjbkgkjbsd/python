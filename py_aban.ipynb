{
  "nbformat": 4,
  "nbformat_minor": 0,
  "metadata": {
    "colab": {
      "provenance": [],
      "authorship_tag": "ABX9TyOLHcX2JAnbg7q9t5mRmVcP",
      "include_colab_link": true
    },
    "kernelspec": {
      "name": "python3",
      "display_name": "Python 3"
    },
    "language_info": {
      "name": "python"
    }
  },
  "cells": [
    {
      "cell_type": "markdown",
      "metadata": {
        "id": "view-in-github",
        "colab_type": "text"
      },
      "source": [
        "<a href=\"https://colab.research.google.com/github/shjbkgkjbsd/python/blob/main/py_aban.ipynb\" target=\"_parent\"><img src=\"https://colab.research.google.com/assets/colab-badge.svg\" alt=\"Open In Colab\"/></a>"
      ]
    },
    {
      "cell_type": "code",
      "execution_count": null,
      "metadata": {
        "id": "twUVWwsWgPAG"
      },
      "outputs": [],
      "source": []
    },
    {
      "cell_type": "markdown",
      "source": [
        "#ch1. 파이썬 문법\n",
        "## 자료형\n",
        "**숫자형**  \n",
        "* 정수 : 123, 456, 0, -30  \n",
        "* 실수 : 12.345, -987,65, 0, 7e6  \n",
        "* 8진수 : 0o765, 0o123  \n",
        "* 16진수 : 0x0d, 0x0A, 0xFF  \n",
        "\n",
        "**변수**\n",
        "* 문자 또는 밑줄로 시작 (_kim, alpha)  \n",
        "* 대소문자 구분(sum, Sum, SUM)  \n",
        "*  영문자, 숫자, 밑줄(A-Z, 0-9, _)  \n",
        "ex) sun_9, Alpha, s9n)  \n",
        "* 파이썬 키워드 (pr int,,,)  \n",
        "\n",
        "**표기법**  \n",
        "+ 카멜(낙타) : myName  \n",
        "+ 스네이크(뱀) : my_name  \n",
        "+ 파스칼 : MyName  \n"
      ],
      "metadata": {
        "id": "YjCmxJsnh0cr"
      }
    },
    {
      "cell_type": "code",
      "source": [
        "a = 10\n",
        "b = 20\n",
        "f = \"10\"\n",
        "c = a + b\n",
        "print(a,b,c,f)"
      ],
      "metadata": {
        "colab": {
          "base_uri": "https://localhost:8080/"
        },
        "id": "gbQ3umTmlbXd",
        "outputId": "fc30674a-8304-4931-84c8-cf05d34bbb31"
      },
      "execution_count": 1,
      "outputs": [
        {
          "output_type": "stream",
          "name": "stdout",
          "text": [
            "10 20 30 10\n"
          ]
        }
      ]
    },
    {
      "cell_type": "code",
      "source": [
        "a = 10\n",
        "b = 20\n",
        "c = \"10\" # 주석\n",
        "d = \"20\"\n",
        "# print(a+b)\n",
        "print(type(a))\n",
        "print(type(b))\n",
        "print(c+d)\n",
        "print(c,d)"
      ],
      "metadata": {
        "colab": {
          "base_uri": "https://localhost:8080/"
        },
        "id": "Wx1uGhrSl-Ss",
        "outputId": "4be6cae3-e0d3-4172-fad4-69682cecbff3"
      },
      "execution_count": 5,
      "outputs": [
        {
          "output_type": "stream",
          "name": "stdout",
          "text": [
            "<class 'int'>\n",
            "<class 'int'>\n",
            "1020\n",
            "10 20\n"
          ]
        }
      ]
    },
    {
      "cell_type": "code",
      "source": [
        "#  나눗셈\n",
        "a = 10\n",
        "b = 3\n",
        "c = a / b\n",
        "d = a // b # 몫\n",
        "e = a % b # 나머지\n",
        "print(c,d,e)"
      ],
      "metadata": {
        "colab": {
          "base_uri": "https://localhost:8080/"
        },
        "id": "SqwrWbEMqda_",
        "outputId": "f8763761-6027-4e24-ff7e-947513809a28"
      },
      "execution_count": 6,
      "outputs": [
        {
          "output_type": "stream",
          "name": "stdout",
          "text": [
            "3.3333333333333335 3 1\n"
          ]
        }
      ]
    },
    {
      "cell_type": "code",
      "source": [
        "# 곱셈\n",
        "a = 10\n",
        "b = 3\n",
        "c = a * b #곱하기\n",
        "d = a**b # 제곱\n",
        "print(c, d)"
      ],
      "metadata": {
        "colab": {
          "base_uri": "https://localhost:8080/"
        },
        "id": "a7oxIAnMrCFd",
        "outputId": "559788be-ddff-4b17-8844-2258f89fb83f"
      },
      "execution_count": 8,
      "outputs": [
        {
          "output_type": "stream",
          "name": "stdout",
          "text": [
            "30 1000\n"
          ]
        }
      ]
    },
    {
      "cell_type": "markdown",
      "source": [
        "#### 문자열  \n",
        "1. 큰따움표 : \"Lang Kim\"  \n",
        "2. 작은 따움표 : \"Lang Kim\" \n",
        "3. 큰따움표3개 : \"\"\"대한민국\"\"\"  \n",
        "4.작은따움표3개 : \"\"\"대한민국\"\"\"  \n",
        "5. \"동해물과 백두산이 마르고 닳도록 Kim's\"  \n"
      ],
      "metadata": {
        "id": "qVtaIifCrn4z"
      }
    },
    {
      "cell_type": "code",
      "source": [
        "# 변수\n",
        "myName = \"Kim Lang Ki\"\n",
        "my_name = \"김랑기\"\n",
        "_my_name = \"korea\"\n",
        "MYNAME = \"코리아\"\n",
        "my2name = \"kikiki\"\n",
        "# 2myname = \"숫자먼저\"\n",
        "# my-name = \"마이너스\"\n",
        "# my name = \"스페이스\"\n",
        "myName1 = 1234\n",
        "myName2 = \"1234\"\n",
        "print(type(myName1))\n",
        "print(type(myName2))"
      ],
      "metadata": {
        "colab": {
          "base_uri": "https://localhost:8080/"
        },
        "id": "56tIWh5usbyP",
        "outputId": "481e71fe-4d56-422a-caad-474ffea71b7b"
      },
      "execution_count": 9,
      "outputs": [
        {
          "output_type": "stream",
          "name": "stdout",
          "text": [
            "<class 'int'>\n",
            "<class 'str'>\n"
          ]
        }
      ]
    },
    {
      "cell_type": "code",
      "source": [
        "a=b=c= \"브라보콘\"\n",
        "print(a)\n",
        "print(b)\n",
        "print(c)\n"
      ],
      "metadata": {
        "colab": {
          "base_uri": "https://localhost:8080/"
        },
        "id": "z_lV3eu_vAOn",
        "outputId": "66c065e9-f230-4e82-f72c-f6ae602eabe3"
      },
      "execution_count": 10,
      "outputs": [
        {
          "output_type": "stream",
          "name": "stdout",
          "text": [
            "브라보콘\n",
            "브라보콘\n",
            "브라보콘\n"
          ]
        }
      ]
    },
    {
      "cell_type": "code",
      "source": [
        "x,y,z = \"딸기\",\"포도\",\"바나나\"\n",
        "print(x)\n",
        "print(y)\n",
        "print(z)"
      ],
      "metadata": {
        "colab": {
          "base_uri": "https://localhost:8080/"
        },
        "id": "NoTT4PZFvPX3",
        "outputId": "e88e3beb-d02e-4d4f-d0b7-40a53c9bcec4"
      },
      "execution_count": 11,
      "outputs": [
        {
          "output_type": "stream",
          "name": "stdout",
          "text": [
            "딸기\n",
            "포도\n",
            "바나나\n"
          ]
        }
      ]
    },
    {
      "cell_type": "code",
      "source": [
        "fruits = [\"누가바\", \"쌍쌍바\", \"보석바\"]\n",
        "x,y,z = fruits\n",
        "print(x)\n",
        "print(y)\n",
        "print(z)"
      ],
      "metadata": {
        "colab": {
          "base_uri": "https://localhost:8080/"
        },
        "id": "xYoYDiSGv5X3",
        "outputId": "36629c40-068f-4b81-84f7-eaa684246729"
      },
      "execution_count": 12,
      "outputs": [
        {
          "output_type": "stream",
          "name": "stdout",
          "text": [
            "누가바\n",
            "쌍쌍바\n",
            "보석바\n"
          ]
        }
      ]
    },
    {
      "cell_type": "code",
      "source": [
        "x = \"Life\"\n",
        "y = \"is\"\n",
        "z = \"beautiful!\"\n",
        "print(x,y,z)\n",
        "print(x+y+z)"
      ],
      "metadata": {
        "colab": {
          "base_uri": "https://localhost:8080/"
        },
        "id": "aybR103xwgN5",
        "outputId": "16c09f05-bcb6-464b-8438-53133ac75021"
      },
      "execution_count": 13,
      "outputs": [
        {
          "output_type": "stream",
          "name": "stdout",
          "text": [
            "Life is beautiful!\n",
            "Lifeisbeautiful!\n"
          ]
        }
      ]
    },
    {
      "cell_type": "code",
      "source": [
        "a = 1\n",
        "b = 2\n",
        "c = 3\n",
        "print(a+b+c)\n",
        "print(a,b,c)"
      ],
      "metadata": {
        "colab": {
          "base_uri": "https://localhost:8080/"
        },
        "id": "62XAecbExDTY",
        "outputId": "c85f63f7-d194-40ba-f0dc-42f55d0ed52d"
      },
      "execution_count": 14,
      "outputs": [
        {
          "output_type": "stream",
          "name": "stdout",
          "text": [
            "6\n",
            "1 2 3\n"
          ]
        }
      ]
    },
    {
      "cell_type": "code",
      "source": [
        "a = '1'\n",
        "b = '2'\n",
        "c = '3'\n",
        "print(a+b+c)\n",
        "print(a,b,c)"
      ],
      "metadata": {
        "colab": {
          "base_uri": "https://localhost:8080/"
        },
        "id": "0Ll_hEfVxSCA",
        "outputId": "bab07ef4-6b5d-4e45-97d4-d786322b92ef"
      },
      "execution_count": 15,
      "outputs": [
        {
          "output_type": "stream",
          "name": "stdout",
          "text": [
            "123\n",
            "1 2 3\n"
          ]
        }
      ]
    },
    {
      "cell_type": "code",
      "source": [
        " a = 1; b = 2\n",
        " a,b = b,a\n",
        " print(a,b)"
      ],
      "metadata": {
        "colab": {
          "base_uri": "https://localhost:8080/"
        },
        "id": "_AweXGmo7wuT",
        "outputId": "19cd9c3e-5278-496a-dcf1-73a12f512efb"
      },
      "execution_count": 28,
      "outputs": [
        {
          "output_type": "stream",
          "name": "stdout",
          "text": [
            "2 1\n"
          ]
        }
      ]
    },
    {
      "cell_type": "code",
      "source": [
        " b = 2:c = 3\n",
        " # c = (b=b+c) # error"
      ],
      "metadata": {
        "colab": {
          "base_uri": "https://localhost:8080/",
          "height": 137
        },
        "id": "tHu9VHw88VoL",
        "outputId": "d76905fe-d39b-4048-b9b2-7e20bd2bf011"
      },
      "execution_count": 26,
      "outputs": [
        {
          "output_type": "error",
          "ename": "SyntaxError",
          "evalue": "ignored",
          "traceback": [
            "\u001b[0;36m  File \u001b[0;32m\"<ipython-input-26-0be05968caeb>\"\u001b[0;36m, line \u001b[0;32m1\u001b[0m\n\u001b[0;31m    b = 2:c = 3\u001b[0m\n\u001b[0m         ^\u001b[0m\n\u001b[0;31mSyntaxError\u001b[0m\u001b[0;31m:\u001b[0m invalid syntax\n"
          ]
        }
      ]
    },
    {
      "cell_type": "code",
      "source": [
        "1 a=1;b=2;c=3\n",
        "\n"
      ],
      "metadata": {
        "id": "rTu6kE8B8uSy"
      },
      "execution_count": null,
      "outputs": []
    },
    {
      "cell_type": "code",
      "source": [
        " # len()\n",
        " a = \"123456\"\n",
        " b = [1,2,3,4]\n",
        " print(len(a))\n",
        " print(len(b))"
      ],
      "metadata": {
        "colab": {
          "base_uri": "https://localhost:8080/"
        },
        "id": "XuKmeDEr9H8D",
        "outputId": "4f8387c3-aec8-422f-a6e9-7376a100ce39"
      },
      "execution_count": 24,
      "outputs": [
        {
          "output_type": "stream",
          "name": "stdout",
          "text": [
            "6\n",
            "4\n"
          ]
        }
      ]
    },
    {
      "cell_type": "markdown",
      "source": [],
      "metadata": {
        "id": "yFWMElu_nSQ4"
      }
    },
    {
      "cell_type": "code",
      "source": [
        "a = 100\n",
        "b = 200\n",
        "result = a + b\n",
        "print(a,'+',b, \"=\",result)\n",
        "result = a - b\n",
        "print(a,'-',b, \"=\",result)\n",
        "result = a / b\n",
        "print(a,'/',b, \"=\",result)\n",
        "result = a * b\n",
        "print(a,'*',b, \"=\",result)"
      ],
      "metadata": {
        "colab": {
          "base_uri": "https://localhost:8080/"
        },
        "id": "2bYG4otN9r6T",
        "outputId": "aac3f778-ae1b-45c7-8e25-81812e8f48fa"
      },
      "execution_count": 25,
      "outputs": [
        {
          "output_type": "stream",
          "name": "stdout",
          "text": [
            "100 + 200 = 300\n",
            "100 - 200 = -100\n",
            "100 / 200 = 0.5\n",
            "100 * 200 = 20000\n"
          ]
        }
      ]
    },
    {
      "cell_type": "code",
      "source": [
        "a = \"1234\"\n",
        "b = 5678\n",
        "c = int(a) + b\n",
        "print(c)"
      ],
      "metadata": {
        "colab": {
          "base_uri": "https://localhost:8080/"
        },
        "id": "QqOegC34ApmM",
        "outputId": "3f847558-b2ef-4b1d-b09f-8baae9e5b6c7"
      },
      "execution_count": 31,
      "outputs": [
        {
          "output_type": "stream",
          "name": "stdout",
          "text": [
            "6912\n"
          ]
        }
      ]
    },
    {
      "cell_type": "code",
      "source": [
        "# 계산기 2\n",
        "num1 = int(input(\"숫자입력1:\"))\n",
        "num2 = int(input(\"숫자입력2:\"))\n",
        "\n",
        "print(num1,'+',num2, \"=\",result)\n",
        "result = num1 + num2\n",
        "print(num1,'-',num2, \"=\",result)\n",
        "result = num1 - num2\n",
        "print(num1,'*',num2, \"=\",result)\n",
        "result = num1 * num2\n",
        "print(num1,'/',num2, \"=\",result)\n",
        "result = num1 / num2\n"
      ],
      "metadata": {
        "colab": {
          "base_uri": "https://localhost:8080/"
        },
        "id": "-4lzvkt9BNts",
        "outputId": "7325b607-499a-42b2-aa46-841a3c8ee5f4"
      },
      "execution_count": 40,
      "outputs": [
        {
          "output_type": "stream",
          "name": "stdout",
          "text": [
            "숫자입력1:1\n",
            "숫자입력2:3\n",
            "1 + 3 = 4.5\n",
            "1 - 3 = 4\n",
            "1 * 3 = -2\n",
            "1 / 3 = 3\n"
          ]
        }
      ]
    },
    {
      "cell_type": "code",
      "source": [
        "# 자기이름, 전화번호, 택배(g)*100, \n",
        "#결과값= g *100원 = 00원 입니다.\n",
        "num1 = input(이름)\n",
        "y = \"전화번호:010-8507-9954\"\n",
        "z = \"택배(g)*100원\"\n",
        "\n",
        "print(x)\n",
        "print(y)\n",
        "print(z)"
      ],
      "metadata": {
        "colab": {
          "base_uri": "https://localhost:8080/"
        },
        "id": "jQJfrSAVEAjW",
        "outputId": "b73a4c07-ae00-4b97-b21b-ec4baa3b174f"
      },
      "execution_count": 45,
      "outputs": [
        {
          "output_type": "stream",
          "name": "stdout",
          "text": [
            "이름:신호준\n",
            "전화번호:010-8507-9954\n",
            "택배(g)*100원\n"
          ]
        }
      ]
    }
  ]
}