{
  "nbformat": 4,
  "nbformat_minor": 0,
  "metadata": {
    "colab": {
      "provenance": [],
      "authorship_tag": "ABX9TyNGPt2VMxoBmJzNbX3A3jbz",
      "include_colab_link": true
    },
    "kernelspec": {
      "name": "python3",
      "display_name": "Python 3"
    },
    "language_info": {
      "name": "python"
    }
  },
  "cells": [
    {
      "cell_type": "markdown",
      "metadata": {
        "id": "view-in-github",
        "colab_type": "text"
      },
      "source": [
        "<a href=\"https://colab.research.google.com/github/shjbkgkjbsd/python/blob/main/py_aban.ipynb\" target=\"_parent\"><img src=\"https://colab.research.google.com/assets/colab-badge.svg\" alt=\"Open In Colab\"/></a>"
      ]
    },
    {
      "cell_type": "code",
      "execution_count": null,
      "metadata": {
        "id": "twUVWwsWgPAG"
      },
      "outputs": [],
      "source": []
    },
    {
      "cell_type": "markdown",
      "source": [
        "#ch1. 파이썬 문법\n",
        "## 자료형\n",
        "**숫자형**  \n",
        "* 정수 : 123, 456, 0, -30  \n",
        "* 실수 : 12.345, -987,65, 0, 7e6  \n",
        "* 8진수 : 0o765, 0o123  \n",
        "* 16진수 : 0x0d, 0x0A, 0xFF  \n",
        "\n",
        "**변수**\n",
        "* 문자 또는 밑줄로 시작 (_kim, alpha)  \n",
        "* 대소문자 구분(sum, Sum, SUM)  \n",
        "*  영문자, 숫자, 밑줄(A-Z, 0-9, _)  \n",
        "ex) sun_9, Alpha, s9n)  \n",
        "* 파이썬 키워드 (pr int,,,)  \n",
        "\n",
        "**표기법**  \n",
        "+ 카멜(낙타) : myName  \n",
        "+ 스네이크(뱀) : my_name  \n",
        "+ 파스칼 : MyName  \n"
      ],
      "metadata": {
        "id": "YjCmxJsnh0cr"
      }
    },
    {
      "cell_type": "code",
      "source": [
        "a = 10\n",
        "b = 20\n",
        "f = \"10\"\n",
        "c = a + b\n",
        "print(a,b,c,f)"
      ],
      "metadata": {
        "colab": {
          "base_uri": "https://localhost:8080/"
        },
        "id": "gbQ3umTmlbXd",
        "outputId": "fc30674a-8304-4931-84c8-cf05d34bbb31"
      },
      "execution_count": null,
      "outputs": [
        {
          "output_type": "stream",
          "name": "stdout",
          "text": [
            "10 20 30 10\n"
          ]
        }
      ]
    },
    {
      "cell_type": "code",
      "source": [
        "a = 10\n",
        "b = 20\n",
        "c = \"10\" # 주석\n",
        "d = \"20\"\n",
        "# print(a+b)\n",
        "print(type(a))\n",
        "print(type(b))\n",
        "print(c+d)\n",
        "print(c,d)"
      ],
      "metadata": {
        "colab": {
          "base_uri": "https://localhost:8080/"
        },
        "id": "Wx1uGhrSl-Ss",
        "outputId": "4be6cae3-e0d3-4172-fad4-69682cecbff3"
      },
      "execution_count": null,
      "outputs": [
        {
          "output_type": "stream",
          "name": "stdout",
          "text": [
            "<class 'int'>\n",
            "<class 'int'>\n",
            "1020\n",
            "10 20\n"
          ]
        }
      ]
    },
    {
      "cell_type": "code",
      "source": [
        "#  나눗셈\n",
        "a = 10\n",
        "b = 3\n",
        "c = a / b\n",
        "d = a // b # 몫\n",
        "e = a % b # 나머지\n",
        "print(c,d,e)"
      ],
      "metadata": {
        "colab": {
          "base_uri": "https://localhost:8080/"
        },
        "id": "SqwrWbEMqda_",
        "outputId": "f8763761-6027-4e24-ff7e-947513809a28"
      },
      "execution_count": null,
      "outputs": [
        {
          "output_type": "stream",
          "name": "stdout",
          "text": [
            "3.3333333333333335 3 1\n"
          ]
        }
      ]
    },
    {
      "cell_type": "code",
      "source": [
        "# 곱셈\n",
        "a = 10\n",
        "b = 3\n",
        "c = a * b #곱하기\n",
        "d = a**b # 제곱\n",
        "print(c, d)"
      ],
      "metadata": {
        "colab": {
          "base_uri": "https://localhost:8080/"
        },
        "id": "a7oxIAnMrCFd",
        "outputId": "559788be-ddff-4b17-8844-2258f89fb83f"
      },
      "execution_count": null,
      "outputs": [
        {
          "output_type": "stream",
          "name": "stdout",
          "text": [
            "30 1000\n"
          ]
        }
      ]
    },
    {
      "cell_type": "markdown",
      "source": [
        "#### 문자열  \n",
        "1. 큰따움표 : \"Lang Kim\"  \n",
        "2. 작은 따움표 : \"Lang Kim\" \n",
        "3. 큰따움표3개 : \"\"\"대한민국\"\"\"  \n",
        "4.작은따움표3개 : \"\"\"대한민국\"\"\"  \n",
        "5. \"동해물과 백두산이 마르고 닳도록 Kim's\"  \n"
      ],
      "metadata": {
        "id": "qVtaIifCrn4z"
      }
    },
    {
      "cell_type": "code",
      "source": [
        "# 변수\n",
        "myName = \"Kim Lang Ki\"\n",
        "my_name = \"김랑기\"\n",
        "_my_name = \"korea\"\n",
        "MYNAME = \"코리아\"\n",
        "my2name = \"kikiki\"\n",
        "# 2myname = \"숫자먼저\"\n",
        "# my-name = \"마이너스\"\n",
        "# my name = \"스페이스\"\n",
        "myName1 = 1234\n",
        "myName2 = \"1234\"\n",
        "print(type(myName1))\n",
        "print(type(myName2))"
      ],
      "metadata": {
        "colab": {
          "base_uri": "https://localhost:8080/"
        },
        "id": "56tIWh5usbyP",
        "outputId": "481e71fe-4d56-422a-caad-474ffea71b7b"
      },
      "execution_count": null,
      "outputs": [
        {
          "output_type": "stream",
          "name": "stdout",
          "text": [
            "<class 'int'>\n",
            "<class 'str'>\n"
          ]
        }
      ]
    },
    {
      "cell_type": "code",
      "source": [
        "a=b=c= \"브라보콘\"\n",
        "print(a)\n",
        "print(b)\n",
        "print(c)\n"
      ],
      "metadata": {
        "colab": {
          "base_uri": "https://localhost:8080/"
        },
        "id": "z_lV3eu_vAOn",
        "outputId": "66c065e9-f230-4e82-f72c-f6ae602eabe3"
      },
      "execution_count": null,
      "outputs": [
        {
          "output_type": "stream",
          "name": "stdout",
          "text": [
            "브라보콘\n",
            "브라보콘\n",
            "브라보콘\n"
          ]
        }
      ]
    },
    {
      "cell_type": "code",
      "source": [
        "x,y,z = \"딸기\",\"포도\",\"바나나\"\n",
        "print(x)\n",
        "print(y)\n",
        "print(z)"
      ],
      "metadata": {
        "colab": {
          "base_uri": "https://localhost:8080/"
        },
        "id": "NoTT4PZFvPX3",
        "outputId": "e88e3beb-d02e-4d4f-d0b7-40a53c9bcec4"
      },
      "execution_count": null,
      "outputs": [
        {
          "output_type": "stream",
          "name": "stdout",
          "text": [
            "딸기\n",
            "포도\n",
            "바나나\n"
          ]
        }
      ]
    },
    {
      "cell_type": "code",
      "source": [
        "fruits = [\"누가바\", \"쌍쌍바\", \"보석바\"]\n",
        "x,y,z = fruits\n",
        "print(x)\n",
        "print(y)\n",
        "print(z)"
      ],
      "metadata": {
        "colab": {
          "base_uri": "https://localhost:8080/"
        },
        "id": "xYoYDiSGv5X3",
        "outputId": "36629c40-068f-4b81-84f7-eaa684246729"
      },
      "execution_count": null,
      "outputs": [
        {
          "output_type": "stream",
          "name": "stdout",
          "text": [
            "누가바\n",
            "쌍쌍바\n",
            "보석바\n"
          ]
        }
      ]
    },
    {
      "cell_type": "code",
      "source": [
        "x = \"Life\"\n",
        "y = \"is\"\n",
        "z = \"beautiful!\"\n",
        "print(x,y,z)\n",
        "print(x+y+z)"
      ],
      "metadata": {
        "colab": {
          "base_uri": "https://localhost:8080/"
        },
        "id": "aybR103xwgN5",
        "outputId": "16c09f05-bcb6-464b-8438-53133ac75021"
      },
      "execution_count": null,
      "outputs": [
        {
          "output_type": "stream",
          "name": "stdout",
          "text": [
            "Life is beautiful!\n",
            "Lifeisbeautiful!\n"
          ]
        }
      ]
    },
    {
      "cell_type": "code",
      "source": [
        "a = 1\n",
        "b = 2\n",
        "c = 3\n",
        "print(a+b+c)\n",
        "print(a,b,c)"
      ],
      "metadata": {
        "colab": {
          "base_uri": "https://localhost:8080/"
        },
        "id": "62XAecbExDTY",
        "outputId": "2fc8aaa4-56bc-4225-d413-84aee6699504"
      },
      "execution_count": null,
      "outputs": [
        {
          "output_type": "stream",
          "name": "stdout",
          "text": [
            "6\n",
            "1 2 3\n"
          ]
        }
      ]
    },
    {
      "cell_type": "code",
      "source": [
        "a = '1'\n",
        "b = '2'\n",
        "c = '3'\n",
        "print(a+b+c)\n",
        "print(a,b,c)"
      ],
      "metadata": {
        "colab": {
          "base_uri": "https://localhost:8080/"
        },
        "id": "0Ll_hEfVxSCA",
        "outputId": "5ad24563-5d3c-43f9-a99f-a68852a52819"
      },
      "execution_count": null,
      "outputs": [
        {
          "output_type": "stream",
          "name": "stdout",
          "text": [
            "123\n",
            "1 2 3\n"
          ]
        }
      ]
    },
    {
      "cell_type": "code",
      "source": [
        " a = 1; b = 2\n",
        " a,b = b,a\n",
        " print(a,b)"
      ],
      "metadata": {
        "colab": {
          "base_uri": "https://localhost:8080/"
        },
        "id": "_AweXGmo7wuT",
        "outputId": "3a2402a6-b8ca-4843-ba94-8af03611101b"
      },
      "execution_count": null,
      "outputs": [
        {
          "output_type": "stream",
          "name": "stdout",
          "text": [
            "2 1\n"
          ]
        }
      ]
    },
    {
      "cell_type": "code",
      "source": [
        " b = 2:c = 3\n",
        " # c = (b=b+c) # error"
      ],
      "metadata": {
        "colab": {
          "base_uri": "https://localhost:8080/",
          "height": 137
        },
        "id": "tHu9VHw88VoL",
        "outputId": "d76905fe-d39b-4048-b9b2-7e20bd2bf011"
      },
      "execution_count": null,
      "outputs": [
        {
          "output_type": "error",
          "ename": "SyntaxError",
          "evalue": "ignored",
          "traceback": [
            "\u001b[0;36m  File \u001b[0;32m\"<ipython-input-26-0be05968caeb>\"\u001b[0;36m, line \u001b[0;32m1\u001b[0m\n\u001b[0;31m    b = 2:c = 3\u001b[0m\n\u001b[0m         ^\u001b[0m\n\u001b[0;31mSyntaxError\u001b[0m\u001b[0;31m:\u001b[0m invalid syntax\n"
          ]
        }
      ]
    },
    {
      "cell_type": "code",
      "source": [
        "1 a=1;b=2;c=3\n",
        "\n"
      ],
      "metadata": {
        "id": "rTu6kE8B8uSy"
      },
      "execution_count": null,
      "outputs": []
    },
    {
      "cell_type": "code",
      "source": [
        " # len()\n",
        " a = \"123456\"\n",
        " b = [1,2,3,4]\n",
        " print(len(a))\n",
        " print(len(b))"
      ],
      "metadata": {
        "colab": {
          "base_uri": "https://localhost:8080/"
        },
        "id": "XuKmeDEr9H8D",
        "outputId": "6c40a322-3dab-446d-ae58-75a9dae50780"
      },
      "execution_count": null,
      "outputs": [
        {
          "output_type": "stream",
          "name": "stdout",
          "text": [
            "6\n",
            "4\n"
          ]
        }
      ]
    },
    {
      "cell_type": "markdown",
      "source": [],
      "metadata": {
        "id": "yFWMElu_nSQ4"
      }
    },
    {
      "cell_type": "code",
      "source": [
        "a = 100\n",
        "b = 200\n",
        "result = a + b\n",
        "print(a,'+',b, \"=\",result)\n",
        "result = a - b\n",
        "print(a,'-',b, \"=\",result)\n",
        "result = a / b\n",
        "print(a,'/',b, \"=\",result)\n",
        "result = a * b\n",
        "print(a,'*',b, \"=\",result)"
      ],
      "metadata": {
        "colab": {
          "base_uri": "https://localhost:8080/"
        },
        "id": "2bYG4otN9r6T",
        "outputId": "0f12d08e-5e99-40f6-c276-879f88dadaaa"
      },
      "execution_count": null,
      "outputs": [
        {
          "output_type": "stream",
          "name": "stdout",
          "text": [
            "100 + 200 = 300\n",
            "100 - 200 = -100\n",
            "100 / 200 = 0.5\n",
            "100 * 200 = 20000\n"
          ]
        }
      ]
    },
    {
      "cell_type": "code",
      "source": [
        "a = \"1234\"\n",
        "b = 5678\n",
        "c = int(a) + b\n",
        "print(c)"
      ],
      "metadata": {
        "colab": {
          "base_uri": "https://localhost:8080/"
        },
        "id": "QqOegC34ApmM",
        "outputId": "3f847558-b2ef-4b1d-b09f-8baae9e5b6c7"
      },
      "execution_count": null,
      "outputs": [
        {
          "output_type": "stream",
          "name": "stdout",
          "text": [
            "6912\n"
          ]
        }
      ]
    },
    {
      "cell_type": "code",
      "source": [
        "# 계산기 2\n",
        "num1 = int(input(\"숫자입력1:\"))\n",
        "num2 = int(input(\"숫자입력2:\"))\n",
        "\n",
        "print(num1,'+',num2, \"=\",result)\n",
        "result = num1 + num2\n",
        "print(num1,'-',num2, \"=\",result)\n",
        "result = num1 - num2\n",
        "print(num1,'*',num2, \"=\",result)\n",
        "result = num1 * num2\n",
        "print(num1,'/',num2, \"=\",result)\n",
        "result = num1 / num2\n"
      ],
      "metadata": {
        "colab": {
          "base_uri": "https://localhost:8080/"
        },
        "id": "-4lzvkt9BNts",
        "outputId": "446fc8c9-bf75-427e-87ff-a517e3981753"
      },
      "execution_count": null,
      "outputs": [
        {
          "output_type": "stream",
          "name": "stdout",
          "text": [
            "숫자입력1:10\n",
            "숫자입력2:1\n",
            "10 + 1 = 20000\n",
            "10 - 1 = 11\n",
            "10 * 1 = 9\n",
            "10 / 1 = 10\n"
          ]
        }
      ]
    },
    {
      "cell_type": "code",
      "source": [
        "# 자기이름, 전화번호, 택배(g)*100, \n",
        "#결과값= g *100원 = 00원 입니다.\n",
        "num1 = input(이름)\n",
        "y = \"전화번호:010-8507-9954\"\n",
        "z = \"택배(g)*100원\"\n",
        "\n",
        "print(x)\n",
        "print(y)\n",
        "print(z)"
      ],
      "metadata": {
        "colab": {
          "base_uri": "https://localhost:8080/",
          "height": 248
        },
        "id": "jQJfrSAVEAjW",
        "outputId": "35b151a8-f675-4f13-9850-9821e261e408"
      },
      "execution_count": null,
      "outputs": [
        {
          "output_type": "error",
          "ename": "NameError",
          "evalue": "ignored",
          "traceback": [
            "\u001b[0;31m---------------------------------------------------------------------------\u001b[0m",
            "\u001b[0;31mNameError\u001b[0m                                 Traceback (most recent call last)",
            "\u001b[0;32m<ipython-input-30-7efb7de4c86b>\u001b[0m in \u001b[0;36m<module>\u001b[0;34m\u001b[0m\n\u001b[1;32m      1\u001b[0m \u001b[0;31m# 자기이름, 전화번호, 택배(g)*100,\u001b[0m\u001b[0;34m\u001b[0m\u001b[0;34m\u001b[0m\u001b[0m\n\u001b[1;32m      2\u001b[0m \u001b[0;31m#결과값= g *100원 = 00원 입니다.\u001b[0m\u001b[0;34m\u001b[0m\u001b[0;34m\u001b[0m\u001b[0m\n\u001b[0;32m----> 3\u001b[0;31m \u001b[0mnum1\u001b[0m \u001b[0;34m=\u001b[0m \u001b[0minput\u001b[0m\u001b[0;34m(\u001b[0m\u001b[0m이름\u001b[0m\u001b[0;34m)\u001b[0m\u001b[0;34m\u001b[0m\u001b[0;34m\u001b[0m\u001b[0m\n\u001b[0m\u001b[1;32m      4\u001b[0m \u001b[0my\u001b[0m \u001b[0;34m=\u001b[0m \u001b[0;34m\"전화번호:010-8507-9954\"\u001b[0m\u001b[0;34m\u001b[0m\u001b[0;34m\u001b[0m\u001b[0m\n\u001b[1;32m      5\u001b[0m \u001b[0mz\u001b[0m \u001b[0;34m=\u001b[0m \u001b[0;34m\"택배(g)*100원\"\u001b[0m\u001b[0;34m\u001b[0m\u001b[0;34m\u001b[0m\u001b[0m\n",
            "\u001b[0;31mNameError\u001b[0m: name '이름' is not defined"
          ]
        }
      ]
    },
    {
      "cell_type": "markdown",
      "source": [
        "# CH2. 서식 추력 print()"
      ],
      "metadata": {
        "id": "ZnlPsEmXiZFa"
      }
    },
    {
      "cell_type": "code",
      "source": [
        "print (\"%d\" % 123)\n",
        "print (\"%5d\" % 123)\n",
        "print (\"%05d\" % 123)\n",
        "\n",
        "print (\"%f\" % 123.45)\n",
        "print (\"%7.1f\" % 123.45)\n",
        "print (\"%7.3f\" % 123.45)\n",
        "\n",
        "print (\"%c\" % \"1\")\n",
        "print (\"%s\" % \"가나다라\")\n",
        "print (\"%6s\" % \"가나다라\")\n",
        "print (\"%6s\" % \"abcd\")"
      ],
      "metadata": {
        "colab": {
          "base_uri": "https://localhost:8080/"
        },
        "id": "DT1qgcKRinIp",
        "outputId": "5466e24d-47ea-4c7f-ea33-012f85730211"
      },
      "execution_count": null,
      "outputs": [
        {
          "output_type": "stream",
          "name": "stdout",
          "text": [
            "123\n",
            "  123\n",
            "00123\n",
            "123.450000\n",
            "  123.5\n",
            "123.450\n",
            "1\n",
            "가나다라\n",
            "  가나다라\n",
            "  abcd\n"
          ]
        }
      ]
    },
    {
      "cell_type": "markdown",
      "source": [
        "#### 순서를 지정 기능 : format"
      ],
      "metadata": {
        "id": "7jstaA-kkPJP"
      }
    },
    {
      "cell_type": "code",
      "source": [
        "print (\"{0:d} {1:5d} {2:05d}\".format(123,456,789))"
      ],
      "metadata": {
        "colab": {
          "base_uri": "https://localhost:8080/"
        },
        "id": "Spk7fEfekc7k",
        "outputId": "f745f593-8e81-4dc1-aa04-f242b9d91670"
      },
      "execution_count": null,
      "outputs": [
        {
          "output_type": "stream",
          "name": "stdout",
          "text": [
            "123   456 00789\n"
          ]
        }
      ]
    },
    {
      "cell_type": "code",
      "source": [
        "print (\"{2:d} {1:5d} {0:05d}\".format(123,456,789))"
      ],
      "metadata": {
        "colab": {
          "base_uri": "https://localhost:8080/"
        },
        "id": "BzvLpZGqmp4m",
        "outputId": "9ad031ca-c015-4543-8eb7-8de5b0b03e61"
      },
      "execution_count": null,
      "outputs": [
        {
          "output_type": "stream",
          "name": "stdout",
          "text": [
            "789   456 00123\n"
          ]
        }
      ]
    },
    {
      "cell_type": "markdown",
      "source": [
        "서식 출력"
      ],
      "metadata": {
        "id": "7GqXOtOGk_yn"
      }
    },
    {
      "cell_type": "code",
      "source": [
        "print(\"\\n줄 바꿈 명령 \\n연습 입니다.\")"
      ],
      "metadata": {
        "colab": {
          "base_uri": "https://localhost:8080/"
        },
        "id": "ygzZdwSFlCxH",
        "outputId": "72843896-56c7-42cd-d718-513b01db4b0f"
      },
      "execution_count": null,
      "outputs": [
        {
          "output_type": "stream",
          "name": "stdout",
          "text": [
            "\n",
            "줄 바꿈 명령 \n",
            "연습 입니다.\n"
          ]
        }
      ]
    },
    {
      "cell_type": "code",
      "source": [
        "print(\"\\t탭키 명령 \\t연습 입니다.\")"
      ],
      "metadata": {
        "colab": {
          "base_uri": "https://localhost:8080/"
        },
        "id": "Ogdtb1DRlVz1",
        "outputId": "b95c2dfa-9a53-4298-c4e6-ea73e1b1ae89"
      },
      "execution_count": null,
      "outputs": [
        {
          "output_type": "stream",
          "name": "stdout",
          "text": [
            "\t탭키 명령 \t연습 입니다.\n"
          ]
        }
      ]
    },
    {
      "cell_type": "code",
      "source": [
        "print(\"따옴표 글자가 \\\"강조\\\"되는 효과1 \")\n",
        "print(\"따옴표 글자가 \\'강조\\'되는 효과2 \")\n",
        "print(\"역슬래시 3개를 출력하려면 \\\\\\\\\\\\ 6개\")\n",
        "print(r\"\\n \\t \\\"\\\\ \\' @를 그대로 출력\")"
      ],
      "metadata": {
        "colab": {
          "base_uri": "https://localhost:8080/"
        },
        "id": "eggNLwv2lgUc",
        "outputId": "c4065282-8848-4980-9a5e-1ae029756530"
      },
      "execution_count": null,
      "outputs": [
        {
          "output_type": "stream",
          "name": "stdout",
          "text": [
            "따옴표 글자가 \"강조\"되는 효과1 \n",
            "따옴표 글자가 '강조'되는 효과2 \n",
            "역슬래시 3개를 출력하려면 \\\\\\ 6개\n",
            "\\n \\t \\\"\\\\ \\' @를 그대로 출력\n"
          ]
        }
      ]
    },
    {
      "cell_type": "markdown",
      "source": [
        "관계 연산자"
      ],
      "metadata": {
        "id": "yQE2oXSnuohu"
      }
    },
    {
      "cell_type": "code",
      "source": [
        "a,b= 10,20\n",
        "print(a==b,a!=b,a>=b,a>=b,a>b,a<b)"
      ],
      "metadata": {
        "colab": {
          "base_uri": "https://localhost:8080/"
        },
        "id": "Ip8CRWP8urqf",
        "outputId": "41d14b4c-55f1-46fa-f5e4-063b6749d713"
      },
      "execution_count": null,
      "outputs": [
        {
          "output_type": "stream",
          "name": "stdout",
          "text": [
            "False True False False False True\n"
          ]
        }
      ]
    },
    {
      "cell_type": "markdown",
      "source": [
        "논리 연산자 and,or,not"
      ],
      "metadata": {
        "id": "OKWyzlAtvL9W"
      }
    },
    {
      "cell_type": "code",
      "source": [
        "a = 95\n",
        "print((a>100) and (a<200)) # 100<a<200\n",
        "print((a<100) or (a>200)) #a<100 , a>200\n",
        "print(not(a==100)) # a<=99 , a>=101"
      ],
      "metadata": {
        "colab": {
          "base_uri": "https://localhost:8080/"
        },
        "id": "lUmtokhcvT-z",
        "outputId": "99933b1d-f9ef-4329-ce82-8bc2d1f3beed"
      },
      "execution_count": null,
      "outputs": [
        {
          "output_type": "stream",
          "name": "stdout",
          "text": [
            "False\n",
            "True\n",
            "True\n"
          ]
        }
      ]
    },
    {
      "cell_type": "code",
      "source": [
        "if(10):\n",
        "  print(\"참이면 실행되어 보임\")\n",
        "  if(0):\n",
        "    print(\"것짓이면 안보임\")"
      ],
      "metadata": {
        "colab": {
          "base_uri": "https://localhost:8080/"
        },
        "id": "1oq7bZ56wcIJ",
        "outputId": "93c4b7e2-b57a-4276-acd1-266d7e65c0ed"
      },
      "execution_count": null,
      "outputs": [
        {
          "output_type": "stream",
          "name": "stdout",
          "text": [
            "참이면 실행되어 보임\n"
          ]
        }
      ]
    },
    {
      "cell_type": "markdown",
      "source": [
        "#### 퀴즈2 // 몫 % 나머지 money=int(input(\"입력)) 지폐 금액입력 후 동전으로 교환시 (500원, 100원, 50원, 10원)  \n",
        "money, c500, c100, c50, c10  \n",
        "500원 : ?  \n",
        "100원 : ?  \n",
        "50원 : ?  \n",
        "10원 : ?  \n",
        "나머지 : ?"
      ],
      "metadata": {
        "id": "VNWBLVHcxAlR"
      }
    },
    {
      "cell_type": "code",
      "source": [
        "\n",
        "money,c500,c100,c50,c10 = 0,0,0,0,0\n",
        "money = int(input(\"동전으로 교환할 돈은?:\"))\n",
        "temp = money\n",
        "c500 = money // 500 # 몫\n",
        "money %= 500 #money = money % 500\n",
        "c100 = money // 100 \n",
        "money %= 100\n",
        "c50 = money // 50 \n",
        "money %= 50\n",
        "c10 = money // 10 \n",
        "money %= 10 #1~9\n",
        "print(\"입력받은 돈은 %d원\" % money )\n",
        "print(\"500원 동전 : %d\" % c500)\n",
        "print(\"100원 동전 : %d\" % c500)\n",
        "print(\"50원 동전 : %d\" % c500)\n",
        "print(\"10원 동전 : %d\" % c500)\n",
        "print(\"나머지 잔돈 : %d\" % money)"
      ],
      "metadata": {
        "colab": {
          "base_uri": "https://localhost:8080/"
        },
        "id": "smm5e88cyUcN",
        "outputId": "666efa49-db17-4e17-e83c-5e214ce45cae"
      },
      "execution_count": null,
      "outputs": [
        {
          "output_type": "stream",
          "name": "stdout",
          "text": [
            "동전으로 교환할 돈은?:1284\n",
            "입력받은 돈은 4원\n",
            "500원 동전 : 2\n",
            "100원 동전 : 2\n",
            "50원 동전 : 2\n",
            "10원 동전 : 2\n",
            "나머지 잔돈 : 4\n"
          ]
        }
      ]
    },
    {
      "cell_type": "code",
      "source": [
        "a = 50\n",
        "if(a < 100):\n",
        "  print(\"100보다 작으면 참\")\n",
        "  print(\"것이지면 이문장은 보이지 않음)\")\n",
        "  print(\"프로그램 끝\")"
      ],
      "metadata": {
        "colab": {
          "base_uri": "https://localhost:8080/"
        },
        "id": "2MdaGjI26opv",
        "outputId": "59a0f16d-af28-4eca-97e5-3b255fa09817"
      },
      "execution_count": null,
      "outputs": [
        {
          "output_type": "stream",
          "name": "stdout",
          "text": [
            "100보다 작으면 참\n",
            "것이지면 이문장은 보이지 않음)\n",
            "프로그램 끝\n"
          ]
        }
      ]
    },
    {
      "cell_type": "code",
      "source": [
        "a=200\n",
        "if(a<100):\n",
        "  print(\"100보다 작음\")\n",
        "else :\n",
        " print(\"거짓:조건보다 크면\")\n",
        "print(\"프로그램 끝\")"
      ],
      "metadata": {
        "colab": {
          "base_uri": "https://localhost:8080/"
        },
        "id": "CNWVBlD_7VaN",
        "outputId": "04832b28-2a0f-471a-9c68-6f5b8c7613e7"
      },
      "execution_count": null,
      "outputs": [
        {
          "output_type": "stream",
          "name": "stdout",
          "text": [
            "거짓:조건보다 크면\n",
            "프로그램 끝\n"
          ]
        }
      ]
    },
    {
      "cell_type": "code",
      "source": [
        "#홀짝 구분\n",
        "a = int(input(\"숫자 입력:\"))\n",
        "if(a%2==0):\n",
        "  print(\"짝수 입니다.\")\n",
        "else:\n",
        "  print(\"홀수 입니다.\")\n"
      ],
      "metadata": {
        "colab": {
          "base_uri": "https://localhost:8080/"
        },
        "id": "mnmGxBb-8Thd",
        "outputId": "2fd49551-6b10-4e01-c7cb-2f1782e8076f"
      },
      "execution_count": null,
      "outputs": [
        {
          "output_type": "stream",
          "name": "stdout",
          "text": [
            "숫자 입력:25\n",
            "홀수 입니다.\n"
          ]
        }
      ]
    },
    {
      "cell_type": "code",
      "source": [
        "a = int(input(\"숫자입력:\"))\n",
        "if (a>50):\n",
        "  if(a<100):\n",
        "    print(\"50<a<100\")\n",
        "  else:\n",
        "   print(\"a>100\")\n",
        "else:\n",
        " if(a>25):\n",
        "  print(\"25<a<50\")\n",
        " else:\n",
        "  print(\"a<25\")"
      ],
      "metadata": {
        "colab": {
          "base_uri": "https://localhost:8080/"
        },
        "id": "aa4s9W0s9AM0",
        "outputId": "e2ecf598-3c59-425e-b5ba-65ad3f86eabe"
      },
      "execution_count": null,
      "outputs": [
        {
          "output_type": "stream",
          "name": "stdout",
          "text": [
            "숫자입력:30\n",
            "25<a<50\n"
          ]
        }
      ]
    },
    {
      "cell_type": "code",
      "source": [
        "fruit = ['사과','배','샤이머스켓','바나나']\n",
        "fruit.append('망고')\n",
        "if '망고' in fruit :\n",
        " print(\"망고가 있습니다.\")\n",
        "print(fruit)"
      ],
      "metadata": {
        "colab": {
          "base_uri": "https://localhost:8080/"
        },
        "id": "gQ8MYi1i_qQz",
        "outputId": "91a57e3b-0ef9-4ac3-a0ec-e16ad1b74622"
      },
      "execution_count": null,
      "outputs": [
        {
          "output_type": "stream",
          "name": "stdout",
          "text": [
            "망고가 있습니다.\n",
            "['사과', '배', '샤이머스켓', '바나나', '망고']\n"
          ]
        }
      ]
    },
    {
      "cell_type": "code",
      "source": [
        "for i in range(1,3,1): #시작값,끝값+1,증가값\n",
        "  print(\"%d 안녕하세요.\" % i)\n",
        "print(\"환영합니다.\")"
      ],
      "metadata": {
        "colab": {
          "base_uri": "https://localhost:8080/"
        },
        "id": "CDER_VwXAq0I",
        "outputId": "ba91c4f9-749d-4c28-d825-60d710d9abd5"
      },
      "execution_count": null,
      "outputs": [
        {
          "output_type": "stream",
          "name": "stdout",
          "text": [
            "1 안녕하세요.\n",
            "2 안녕하세요.\n",
            "환영합니다.\n"
          ]
        }
      ]
    },
    {
      "cell_type": "code",
      "source": [
        "import random\n",
        "num = []\n",
        "for i in range(0,6):\n",
        " num.append(random.randrange(1,5))\n",
        "  print (\"생성 리스트\". num)"
      ],
      "metadata": {
        "colab": {
          "base_uri": "https://localhost:8080/",
          "height": 211
        },
        "id": "EBwtQkrSB-5Q",
        "outputId": "7332d3d1-1106-4b84-ffc5-a79aede5212b"
      },
      "execution_count": null,
      "outputs": [
        {
          "output_type": "error",
          "ename": "AttributeError",
          "evalue": "ignored",
          "traceback": [
            "\u001b[0;31m---------------------------------------------------------------------------\u001b[0m",
            "\u001b[0;31mAttributeError\u001b[0m                            Traceback (most recent call last)",
            "\u001b[0;32m<ipython-input-59-8b3f0283e652>\u001b[0m in \u001b[0;36m<module>\u001b[0;34m\u001b[0m\n\u001b[1;32m      3\u001b[0m \u001b[0;32mfor\u001b[0m \u001b[0mi\u001b[0m \u001b[0;32min\u001b[0m \u001b[0mrange\u001b[0m\u001b[0;34m(\u001b[0m\u001b[0;36m0\u001b[0m\u001b[0;34m,\u001b[0m\u001b[0;36m6\u001b[0m\u001b[0;34m)\u001b[0m\u001b[0;34m:\u001b[0m\u001b[0;34m\u001b[0m\u001b[0;34m\u001b[0m\u001b[0m\n\u001b[1;32m      4\u001b[0m  \u001b[0mnum\u001b[0m\u001b[0;34m.\u001b[0m\u001b[0mappend\u001b[0m\u001b[0;34m(\u001b[0m\u001b[0mrandom\u001b[0m\u001b[0;34m.\u001b[0m\u001b[0mrandrange\u001b[0m\u001b[0;34m(\u001b[0m\u001b[0;36m1\u001b[0m\u001b[0;34m,\u001b[0m\u001b[0;36m5\u001b[0m\u001b[0;34m)\u001b[0m\u001b[0;34m)\u001b[0m\u001b[0;34m\u001b[0m\u001b[0;34m\u001b[0m\u001b[0m\n\u001b[0;32m----> 5\u001b[0;31m \u001b[0mprint\u001b[0m \u001b[0;34m(\u001b[0m\u001b[0;34m\"생성 리스트\"\u001b[0m\u001b[0;34m.\u001b[0m \u001b[0mnum\u001b[0m\u001b[0;34m)\u001b[0m\u001b[0;34m\u001b[0m\u001b[0;34m\u001b[0m\u001b[0m\n\u001b[0m",
            "\u001b[0;31mAttributeError\u001b[0m: 'str' object has no attribute 'num'"
          ]
        }
      ]
    },
    {
      "cell_type": "code",
      "source": [
        " for i in range(1,9,1):\n",
        "  print(\"%d\"%i, end= '\\t')\n",
        "  #print(\"\\n\")\n",
        " for i in range(1,9,1):\n",
        "  print(\"%d\"% i, end= '\\t')"
      ],
      "metadata": {
        "colab": {
          "base_uri": "https://localhost:8080/"
        },
        "id": "8NvdmJDFDlLp",
        "outputId": "0e4e00e3-cc8f-44e5-d61b-f4f05952ea7b"
      },
      "execution_count": null,
      "outputs": [
        {
          "output_type": "stream",
          "name": "stdout",
          "text": [
            "1\t2\t3\t4\t5\t6\t7\t8\t1\t2\t3\t4\t5\t6\t7\t8\t"
          ]
        }
      ]
    },
    {
      "cell_type": "code",
      "source": [
        " sum = 0\n",
        " for i in range(1,11,1):\n",
        "  sum = sum + i\n",
        " print(\"1부터 10까지의 합:%d\" % sum)"
      ],
      "metadata": {
        "colab": {
          "base_uri": "https://localhost:8080/"
        },
        "id": "Pn32g2PPEXQf",
        "outputId": "383bedb1-1295-4907-9c8a-4d744800bc91"
      },
      "execution_count": null,
      "outputs": [
        {
          "output_type": "stream",
          "name": "stdout",
          "text": [
            "1부터 10까지의 합:55\n"
          ]
        }
      ]
    },
    {
      "cell_type": "code",
      "source": [
        " sum,num=0,0\n",
        " num = int(input(\"숫자입력:\"))\n",
        " for i in range(1,num+1,1):\n",
        "  sum = sum +i\n",
        " print(\"1~n까지의 합 :%d\" %sum )"
      ],
      "metadata": {
        "colab": {
          "base_uri": "https://localhost:8080/"
        },
        "id": "Z6o0wFrTFU83",
        "outputId": "f7e45a21-06ee-4059-f464-57b7a751b826"
      },
      "execution_count": null,
      "outputs": [
        {
          "output_type": "stream",
          "name": "stdout",
          "text": [
            "숫자입력:10000\n",
            "1~n까지의 합 :50005000\n"
          ]
        }
      ]
    },
    {
      "cell_type": "code",
      "source": [
        " i,j,k=0,0,0\n",
        " for i in range(2,10,1):\n",
        "  for j in range(1,10,1):\n",
        "    print(\"%d *%d = %2d\" % (i,j,i*j))\n",
        "  print(\"\")"
      ],
      "metadata": {
        "id": "jCC56LVsGUyG"
      },
      "execution_count": null,
      "outputs": []
    },
    {
      "cell_type": "markdown",
      "source": [
        "### Quiz3 구구단을 만들고 2,3,4,5 줄바꿔서 6,7,8,9을 출력하시오."
      ],
      "metadata": {
        "id": "-aNL-NeXHc6O"
      }
    },
    {
      "cell_type": "code",
      "source": [
        " i,j,k=0,0,0\n",
        " for i in range(2,10,1):\n",
        "  for j in range(1,10,1):\n",
        "    print(\"%d *%d = %2d\" % (i,j,i*j))\n",
        "  print(\"\")\n",
        "  for i in range(2,6,1):\n",
        "   print(\"%d\"%i, end= '\\t')\n",
        "  #print(\"\\n\")\n",
        " for i in range(2,10,1):\n",
        "  print(\"%d\"% i, end= '\\t')"
      ],
      "metadata": {
        "id": "jLzHyG3QHuc9"
      },
      "execution_count": null,
      "outputs": []
    },
    {
      "cell_type": "code",
      "source": [
        "k= int(input(\"구구단 단수 입력 : \"))\n",
        "for a in range(1,10):\n",
        "  for b in range(2,6):\n",
        "    print(\"%d x %d = %2d\" % (b,a,a*b), end=\"\\t\")\n",
        "  print(\"\")\n",
        "print(\"\\n\")\n",
        "c,d=0,0\n",
        "for c in range(1,10):\n",
        "  for d in range(6,10):\n",
        "    print(\"%d x %d = %2d\" % (d,c,c*d), end=\"\\t\")\n",
        "  print(\"\")"
      ],
      "metadata": {
        "colab": {
          "base_uri": "https://localhost:8080/"
        },
        "id": "NCQAFaXYMMGl",
        "outputId": "fccef773-e80f-456b-88e2-172c8b5b1838"
      },
      "execution_count": 1,
      "outputs": [
        {
          "output_type": "stream",
          "name": "stdout",
          "text": [
            "구구단 단수 입력 : 2\n",
            "2 x 1 =  2\t3 x 1 =  3\t4 x 1 =  4\t5 x 1 =  5\t\n",
            "2 x 2 =  4\t3 x 2 =  6\t4 x 2 =  8\t5 x 2 = 10\t\n",
            "2 x 3 =  6\t3 x 3 =  9\t4 x 3 = 12\t5 x 3 = 15\t\n",
            "2 x 4 =  8\t3 x 4 = 12\t4 x 4 = 16\t5 x 4 = 20\t\n",
            "2 x 5 = 10\t3 x 5 = 15\t4 x 5 = 20\t5 x 5 = 25\t\n",
            "2 x 6 = 12\t3 x 6 = 18\t4 x 6 = 24\t5 x 6 = 30\t\n",
            "2 x 7 = 14\t3 x 7 = 21\t4 x 7 = 28\t5 x 7 = 35\t\n",
            "2 x 8 = 16\t3 x 8 = 24\t4 x 8 = 32\t5 x 8 = 40\t\n",
            "2 x 9 = 18\t3 x 9 = 27\t4 x 9 = 36\t5 x 9 = 45\t\n",
            "\n",
            "\n",
            "6 x 1 =  6\t7 x 1 =  7\t8 x 1 =  8\t9 x 1 =  9\t\n",
            "6 x 2 = 12\t7 x 2 = 14\t8 x 2 = 16\t9 x 2 = 18\t\n",
            "6 x 3 = 18\t7 x 3 = 21\t8 x 3 = 24\t9 x 3 = 27\t\n",
            "6 x 4 = 24\t7 x 4 = 28\t8 x 4 = 32\t9 x 4 = 36\t\n",
            "6 x 5 = 30\t7 x 5 = 35\t8 x 5 = 40\t9 x 5 = 45\t\n",
            "6 x 6 = 36\t7 x 6 = 42\t8 x 6 = 48\t9 x 6 = 54\t\n",
            "6 x 7 = 42\t7 x 7 = 49\t8 x 7 = 56\t9 x 7 = 63\t\n",
            "6 x 8 = 48\t7 x 8 = 56\t8 x 8 = 64\t9 x 8 = 72\t\n",
            "6 x 9 = 54\t7 x 9 = 63\t8 x 9 = 72\t9 x 9 = 81\t\n"
          ]
        }
      ]
    },
    {
      "cell_type": "markdown",
      "source": [
        "# CH3. 자료형  \n",
        "  \n",
        "##1. 리스트 인덱스,슬라이스"
      ],
      "metadata": {
        "id": "jFJLutZFh3Ai"
      }
    },
    {
      "cell_type": "code",
      "source": [
        "a = [1,2,3,4,5,6,7,8,9]\n",
        "print(a)\n",
        "print(a[0])"
      ],
      "metadata": {
        "colab": {
          "base_uri": "https://localhost:8080/"
        },
        "id": "lw8j2uXeiHny",
        "outputId": "8d1da89c-b126-4a1e-d8fd-7cd3ffc2e06b"
      },
      "execution_count": 3,
      "outputs": [
        {
          "output_type": "stream",
          "name": "stdout",
          "text": [
            "[1, 2, 3, 4, 5, 6, 7, 8, 9]\n",
            "1\n"
          ]
        }
      ]
    },
    {
      "cell_type": "code",
      "source": [
        "a = [1,2,3,4,5,6,7,8,9]\n",
        "print(a[-1])\n",
        "print(a[-2])"
      ],
      "metadata": {
        "colab": {
          "base_uri": "https://localhost:8080/"
        },
        "id": "3Z6cI8Gxjy5u",
        "outputId": "03bf3459-1c37-41cc-ebac-dccada4918da"
      },
      "execution_count": 4,
      "outputs": [
        {
          "output_type": "stream",
          "name": "stdout",
          "text": [
            "9\n",
            "8\n"
          ]
        }
      ]
    },
    {
      "cell_type": "code",
      "source": [
        "a = [1,2,3,4,5,6,7,8,9]\n",
        "print(a[1:9:2])\n",
        "print(a[0:9:2])"
      ],
      "metadata": {
        "colab": {
          "base_uri": "https://localhost:8080/"
        },
        "id": "ytbGffVDkDfX",
        "outputId": "a192f2e5-4615-48f9-b2a2-72fb9de88d44"
      },
      "execution_count": 8,
      "outputs": [
        {
          "output_type": "stream",
          "name": "stdout",
          "text": [
            "[2, 4, 6, 8]\n",
            "[1, 3, 5, 7, 9]\n"
          ]
        }
      ]
    },
    {
      "cell_type": "code",
      "source": [
        "a = [1,2,3,4,5,6,7,8,9]\n",
        "print(a[:4])\n",
        "print(a[5:])"
      ],
      "metadata": {
        "colab": {
          "base_uri": "https://localhost:8080/"
        },
        "id": "TJHtBohOkVEC",
        "outputId": "da657178-c5f6-48ca-8c81-6f47f5dbd500"
      },
      "execution_count": 10,
      "outputs": [
        {
          "output_type": "stream",
          "name": "stdout",
          "text": [
            "[1, 2, 3, 4]\n",
            "[6, 7, 8, 9]\n"
          ]
        }
      ]
    },
    {
      "cell_type": "code",
      "source": [
        "a = [1,2,3,4,5,6,7,8,9]\n",
        "print(len(a))\n",
        "print(len(a)-1)"
      ],
      "metadata": {
        "colab": {
          "base_uri": "https://localhost:8080/"
        },
        "id": "SjaDYZuyk2Se",
        "outputId": "60c079e8-050d-4875-83dd-6c001bd9ad95"
      },
      "execution_count": 11,
      "outputs": [
        {
          "output_type": "stream",
          "name": "stdout",
          "text": [
            "9\n",
            "8\n"
          ]
        }
      ]
    },
    {
      "cell_type": "code",
      "source": [
        "b = [1,2,3,4,5,6]\n",
        "b[0] = \"apple\"\n",
        "b[1] = 99\n",
        "b[5] = [1,2,3]\n",
        "print(b)"
      ],
      "metadata": {
        "colab": {
          "base_uri": "https://localhost:8080/"
        },
        "id": "6-4TnFYylJAc",
        "outputId": "c6ee3afc-28d0-439c-8c97-479d8db591a6"
      },
      "execution_count": 16,
      "outputs": [
        {
          "output_type": "stream",
          "name": "stdout",
          "text": [
            "['apple', 99, 3, 4, 5, [1, 2, 3]]\n"
          ]
        }
      ]
    },
    {
      "cell_type": "markdown",
      "source": [
        "### list add"
      ],
      "metadata": {
        "id": "VLVYDL4qmOrg"
      }
    },
    {
      "cell_type": "code",
      "source": [
        "a = [1,2,3]\n",
        "b = [4,5,6]\n",
        "c = a + b\n",
        "print(a+b)\n",
        "print(c)\n",
        "print(c*3)"
      ],
      "metadata": {
        "colab": {
          "base_uri": "https://localhost:8080/"
        },
        "id": "uG2N-fjpmS2R",
        "outputId": "6038bb8a-c48e-4cb8-95d8-fdc8b7b72bca"
      },
      "execution_count": 18,
      "outputs": [
        {
          "output_type": "stream",
          "name": "stdout",
          "text": [
            "[1, 2, 3, 4, 5, 6]\n",
            "[1, 2, 3, 4, 5, 6]\n",
            "[1, 2, 3, 4, 5, 6, 1, 2, 3, 4, 5, 6, 1, 2, 3, 4, 5, 6]\n"
          ]
        }
      ]
    },
    {
      "cell_type": "markdown",
      "source": [
        "#### 함수 이용 "
      ],
      "metadata": {
        "id": "yqVERBFhmskm"
      }
    },
    {
      "cell_type": "code",
      "source": [
        "k = [\"a\",\"b\",\"c\",\"d\",\"c\"]\n",
        "k.remove(\"c\") # 해당 요소값 삭제\n",
        "print(k)\n",
        "k.append(\"f\") # 맨뒤로 추가\n",
        "print(k)"
      ],
      "metadata": {
        "colab": {
          "base_uri": "https://localhost:8080/"
        },
        "id": "x9cPCWS9mzD2",
        "outputId": "4936c08f-dacc-4987-d08e-eeebcff2c178"
      },
      "execution_count": 21,
      "outputs": [
        {
          "output_type": "stream",
          "name": "stdout",
          "text": [
            "['a', 'b', 'd', 'c']\n",
            "['a', 'b', 'd', 'c', 'f']\n"
          ]
        }
      ]
    },
    {
      "cell_type": "code",
      "source": [
        "k = [1,2,3,4,5,6]\n",
        "k.remove(3) # 해당 요소값 삭제\n",
        "print(k)\n",
        "k.append(6) # 맨뒤로 추가\n",
        "print(k)"
      ],
      "metadata": {
        "colab": {
          "base_uri": "https://localhost:8080/"
        },
        "id": "KziD2UJAnqEc",
        "outputId": "680356d0-4d73-490b-8877-c4a7930eee19"
      },
      "execution_count": 22,
      "outputs": [
        {
          "output_type": "stream",
          "name": "stdout",
          "text": [
            "[1, 2, 4, 5, 6]\n",
            "[1, 2, 4, 5, 6, 6]\n"
          ]
        }
      ]
    },
    {
      "cell_type": "code",
      "source": [
        "j = \"God is love!\"\n",
        "print(j[:3])\n",
        "print(j[4:6])\n",
        "print(j[7:])"
      ],
      "metadata": {
        "colab": {
          "base_uri": "https://localhost:8080/"
        },
        "id": "pAJt9sCtn2j2",
        "outputId": "ba3fa4ae-f4ea-4ad4-86a5-5222892a9f6b"
      },
      "execution_count": 25,
      "outputs": [
        {
          "output_type": "stream",
          "name": "stdout",
          "text": [
            "God\n",
            "is\n",
            "love!\n"
          ]
        }
      ]
    },
    {
      "cell_type": "code",
      "source": [
        "j = \" God is love! \"\n",
        "print(j.upper())\n",
        "print(j.lower())\n",
        "print(j.strip())"
      ],
      "metadata": {
        "colab": {
          "base_uri": "https://localhost:8080/"
        },
        "id": "L9lq7t5xoiCy",
        "outputId": "7d09d895-5e85-4348-ee11-f364ca1ba2e0"
      },
      "execution_count": 27,
      "outputs": [
        {
          "output_type": "stream",
          "name": "stdout",
          "text": [
            " GOD IS LOVE! \n",
            " god is love! \n",
            "God is love!\n"
          ]
        }
      ]
    },
    {
      "cell_type": "code",
      "source": [
        "a = \"apple. mango, banana\"\n",
        "print(a.split(\",\"))"
      ],
      "metadata": {
        "colab": {
          "base_uri": "https://localhost:8080/"
        },
        "id": "mON1OYguszsw",
        "outputId": "785d542c-b801-4520-aa74-3a2b947186bf"
      },
      "execution_count": 30,
      "outputs": [
        {
          "output_type": "stream",
          "name": "stdout",
          "text": [
            "['apple. mango', ' banana']\n"
          ]
        }
      ]
    },
    {
      "cell_type": "code",
      "source": [
        "a = [\"apple\", \"banana\", \"cherry\"]\n",
        "a.append(\"0range\") # 맨 뒷쪽에 추가\n",
        "print(a)"
      ],
      "metadata": {
        "colab": {
          "base_uri": "https://localhost:8080/"
        },
        "id": "tA7gqhW_tP4x",
        "outputId": "e4603c13-ec58-4fe6-f18c-db85e5aebc48"
      },
      "execution_count": 31,
      "outputs": [
        {
          "output_type": "stream",
          "name": "stdout",
          "text": [
            "['apple', 'banana', 'cherry', '0range']\n"
          ]
        }
      ]
    },
    {
      "cell_type": "code",
      "source": [
        "s = [\"apple\", \"banana\", \"cherry\"]\n",
        "a.insert(1,\"0range\") #지정한곳에 삽임\n",
        "print(a)"
      ],
      "metadata": {
        "colab": {
          "base_uri": "https://localhost:8080/"
        },
        "id": "cfG51m5Ttwv2",
        "outputId": "204437cb-d19e-43cb-ca39-050d07caf07f"
      },
      "execution_count": 37,
      "outputs": [
        {
          "output_type": "stream",
          "name": "stdout",
          "text": [
            "['apple', '0range']\n"
          ]
        }
      ]
    },
    {
      "cell_type": "code",
      "source": [
        "a = [\"apple\", \"banana\", \"cherry\",\"banana\"]\n",
        "a.remove(\"banana\") \n",
        "print(a)"
      ],
      "metadata": {
        "colab": {
          "base_uri": "https://localhost:8080/"
        },
        "id": "xPrNhOyGuL9R",
        "outputId": "e6104a28-42be-415d-c2a7-bf605a15a5b8"
      },
      "execution_count": 33,
      "outputs": [
        {
          "output_type": "stream",
          "name": "stdout",
          "text": [
            "['apple', 'cherry', 'banana']\n"
          ]
        }
      ]
    },
    {
      "cell_type": "code",
      "source": [
        "a = [\"apple\", \"banana\", \"cherry\"]\n",
        "a.pop() \n",
        "print(a)\n",
        "a.pop() \n",
        "print(a)"
      ],
      "metadata": {
        "colab": {
          "base_uri": "https://localhost:8080/"
        },
        "id": "57YychmSudXT",
        "outputId": "873a6fb3-7673-4c8c-e214-954537c58b5b"
      },
      "execution_count": 36,
      "outputs": [
        {
          "output_type": "stream",
          "name": "stdout",
          "text": [
            "['apple', 'banana']\n",
            "['apple']\n"
          ]
        }
      ]
    },
    {
      "cell_type": "code",
      "source": [
        "fruit = [\"사과\",\"배\",\"오랜지\"]\n",
        "for i in fruit:\n",
        "  print(i)"
      ],
      "metadata": {
        "colab": {
          "base_uri": "https://localhost:8080/"
        },
        "id": "VfQTK6bWvBYS",
        "outputId": "014d4c49-4fbe-4752-bc67-1101780322ee"
      },
      "execution_count": 38,
      "outputs": [
        {
          "output_type": "stream",
          "name": "stdout",
          "text": [
            "사과\n",
            "배\n",
            "오랜지\n"
          ]
        }
      ]
    },
    {
      "cell_type": "code",
      "source": [
        "fruit = [\"감\",\"밤\",\"대추\"]\n",
        "for i in range(len(fruit)):\n",
        "  print(fruit)"
      ],
      "metadata": {
        "colab": {
          "base_uri": "https://localhost:8080/"
        },
        "id": "JzEW32l9vkPn",
        "outputId": "94f812f3-381b-471b-b045-e48605e8ed4b"
      },
      "execution_count": 39,
      "outputs": [
        {
          "output_type": "stream",
          "name": "stdout",
          "text": [
            "['감', '밤', '대추']\n",
            "['감', '밤', '대추']\n",
            "['감', '밤', '대추']\n"
          ]
        }
      ]
    },
    {
      "cell_type": "code",
      "source": [
        "a = [7,5,3,8,2,0,1,4,6,9]\n",
        "a.sort(reverse=True)\n",
        "print(a)\n",
        "a.sort()\n",
        "print(a)\n",
        "\n"
      ],
      "metadata": {
        "colab": {
          "base_uri": "https://localhost:8080/"
        },
        "id": "_Z2UdiPfwCut",
        "outputId": "446e2398-a7f0-481f-f8a6-d48e5a6ffefa"
      },
      "execution_count": 41,
      "outputs": [
        {
          "output_type": "stream",
          "name": "stdout",
          "text": [
            "[9, 8, 7, 6, 5, 4, 3, 2, 1, 0]\n",
            "[0, 1, 2, 3, 4, 5, 6, 7, 8, 9]\n"
          ]
        }
      ]
    },
    {
      "cell_type": "code",
      "source": [
        "fruit = [\"Kiwi\", \"apple\", \"0range\", \"banana\"]\n",
        "fruit.sort()\n",
        "print(fruit)\n",
        "fruit.sort(key=str.lower)\n",
        "print(fruit)\n",
        "fruit.reverse()\n",
        "print(fruit)"
      ],
      "metadata": {
        "colab": {
          "base_uri": "https://localhost:8080/"
        },
        "id": "Yj0o0Rc3wwuf",
        "outputId": "add49aa1-453b-4221-cd29-dba7453e4f75"
      },
      "execution_count": 42,
      "outputs": [
        {
          "output_type": "stream",
          "name": "stdout",
          "text": [
            "['0range', 'Kiwi', 'apple', 'banana']\n",
            "['0range', 'apple', 'banana', 'Kiwi']\n",
            "['Kiwi', 'banana', 'apple', '0range']\n"
          ]
        }
      ]
    },
    {
      "cell_type": "code",
      "source": [
        "# List 복사\n",
        "fruit = [\"Kiwi\", \"apple\", \"0range\", \"banana\"]\n",
        "myList = fruit.copy()\n",
        "print(myList)\n",
        "cyList = list(fruit)\n",
        "print(cyList)"
      ],
      "metadata": {
        "colab": {
          "base_uri": "https://localhost:8080/"
        },
        "id": "pN9y6HMbzT0L",
        "outputId": "a7a6d1f9-6f8a-459e-aebe-d538d36bce9a"
      },
      "execution_count": 43,
      "outputs": [
        {
          "output_type": "stream",
          "name": "stdout",
          "text": [
            "['Kiwi', 'apple', '0range', 'banana']\n",
            "['Kiwi', 'apple', '0range', 'banana']\n"
          ]
        }
      ]
    },
    {
      "cell_type": "markdown",
      "source": [
        "# 2.tuple 튜플"
      ],
      "metadata": {
        "id": "EjK-OkuS1Cvk"
      }
    },
    {
      "cell_type": "code",
      "source": [
        "l = [1,2,3]\n",
        "t = (5,6,7)\n",
        "print(type(l))\n",
        "print(type(t))\n"
      ],
      "metadata": {
        "colab": {
          "base_uri": "https://localhost:8080/"
        },
        "id": "-cygnAPZ0Agn",
        "outputId": "6d4679b1-8ae4-4920-8745-956a2f1cc797"
      },
      "execution_count": 44,
      "outputs": [
        {
          "output_type": "stream",
          "name": "stdout",
          "text": [
            "<class 'list'>\n",
            "<class 'tuple'>\n"
          ]
        }
      ]
    },
    {
      "cell_type": "code",
      "source": [
        "l = [1,2,3]\n",
        "t = (5,6,7)\n",
        "l[0] = 4\n",
        "print(l)\n",
        "# t[0] = 8\n",
        "print(t)"
      ],
      "metadata": {
        "colab": {
          "base_uri": "https://localhost:8080/"
        },
        "id": "uesnG1Iw1jNr",
        "outputId": "2956eec7-c835-4cee-d858-01b40ec50a81"
      },
      "execution_count": 45,
      "outputs": [
        {
          "output_type": "stream",
          "name": "stdout",
          "text": [
            "[4, 2, 3]\n",
            "(5, 6, 7)\n"
          ]
        }
      ]
    },
    {
      "cell_type": "code",
      "source": [
        "f = (\"apple\", \"banana\", \"cherry\")\n",
        "print(len(f))\n"
      ],
      "metadata": {
        "colab": {
          "base_uri": "https://localhost:8080/"
        },
        "id": "KEFFYoU52Bca",
        "outputId": "490df584-21b7-4c80-e8a8-69019ae2e085"
      },
      "execution_count": 46,
      "outputs": [
        {
          "output_type": "stream",
          "name": "stdout",
          "text": [
            "3\n"
          ]
        }
      ]
    },
    {
      "cell_type": "code",
      "source": [
        "t = (\"kiwi\")\n",
        "print(t)\n",
        "print(type(t))"
      ],
      "metadata": {
        "colab": {
          "base_uri": "https://localhost:8080/"
        },
        "id": "g6u5I08T2U7B",
        "outputId": "cfb01100-0ce9-4bb1-d501-3ca0c080061e"
      },
      "execution_count": 47,
      "outputs": [
        {
          "output_type": "stream",
          "name": "stdout",
          "text": [
            "kiwi\n",
            "<class 'str'>\n"
          ]
        }
      ]
    },
    {
      "cell_type": "code",
      "source": [
        "t = (\"kiwi\",) # 튜플로 인식하기 위해 \",\"필요\n",
        "print(t)\n",
        "print(type(t))"
      ],
      "metadata": {
        "colab": {
          "base_uri": "https://localhost:8080/"
        },
        "id": "oy8KWvH42ofv",
        "outputId": "043d34cd-f2bd-4d76-b12e-ad9889ba1aef"
      },
      "execution_count": 48,
      "outputs": [
        {
          "output_type": "stream",
          "name": "stdout",
          "text": [
            "('kiwi',)\n",
            "<class 'tuple'>\n"
          ]
        }
      ]
    },
    {
      "cell_type": "code",
      "source": [
        "f = (\"banana\", \"apple\", \"kiwj\", \"cherry\", \"0range\")\n",
        "print(f[:4])\n",
        "print(f[2:])"
      ],
      "metadata": {
        "colab": {
          "base_uri": "https://localhost:8080/"
        },
        "id": "MEFuTGu-29Q9",
        "outputId": "b08af8fd-4748-4321-fea7-45b40b2dd4f5"
      },
      "execution_count": 49,
      "outputs": [
        {
          "output_type": "stream",
          "name": "stdout",
          "text": [
            "('banana', 'apple', 'kiwj', 'cherry')\n",
            "('kiwj', 'cherry', '0range')\n"
          ]
        }
      ]
    },
    {
      "cell_type": "code",
      "source": [
        "f = (\"banana\", \"apple\", \"kiwj\", \"cherry\", \"0range\")\n",
        "if \"apple\" in f:\n",
        "  print(\"Yes\")\n",
        "else:\n",
        "  print(\"No\")"
      ],
      "metadata": {
        "colab": {
          "base_uri": "https://localhost:8080/"
        },
        "id": "u0E4rTVh3bby",
        "outputId": "cfc2a1e9-ae79-4cbe-d839-9962f152f04b"
      },
      "execution_count": 51,
      "outputs": [
        {
          "output_type": "stream",
          "name": "stdout",
          "text": [
            "Yes\n"
          ]
        }
      ]
    },
    {
      "cell_type": "markdown",
      "source": [
        "### Tuple<->List"
      ],
      "metadata": {
        "id": "KISwoeFf35aR"
      }
    },
    {
      "cell_type": "code",
      "source": [
        "# 튜블에 추가하는 방법\n",
        "t = (\"apple\",\"banana\",\"cherry\")\n",
        "y = list(t)\n",
        "print(type(y))\n",
        "y.append(\"0range\")\n",
        "t = tuple(y)\n",
        "print(t)"
      ],
      "metadata": {
        "colab": {
          "base_uri": "https://localhost:8080/"
        },
        "id": "O2hbJIUN4C4M",
        "outputId": "ba15f3a2-4786-447a-deb7-fe89ce336a24"
      },
      "execution_count": 53,
      "outputs": [
        {
          "output_type": "stream",
          "name": "stdout",
          "text": [
            "<class 'list'>\n",
            "('apple', 'banana', 'cherry', '0range')\n"
          ]
        }
      ]
    },
    {
      "cell_type": "code",
      "source": [
        "# List<->Tuple  \n",
        "company = [\"LG\",\"SK\",\"Apple\"]  \n",
        "t = tuple(company)\n",
        "print(company)\n",
        "print(t)"
      ],
      "metadata": {
        "colab": {
          "base_uri": "https://localhost:8080/"
        },
        "id": "3_OaoY475vuH",
        "outputId": "60c2bb4a-f947-4aae-8f89-c69ac48798ff"
      },
      "execution_count": 54,
      "outputs": [
        {
          "output_type": "stream",
          "name": "stdout",
          "text": [
            "['LG', 'SK', 'Apple']\n",
            "('LG', 'SK', 'Apple')\n"
          ]
        }
      ]
    },
    {
      "cell_type": "code",
      "source": [
        "c = (\"LG\",\"SK\",\"Apple\")\n",
        "d = (\"Samaung\",)\n",
        "c += d # c = c + d\n",
        "print(c)\n"
      ],
      "metadata": {
        "colab": {
          "base_uri": "https://localhost:8080/"
        },
        "id": "krNerl8B6LFt",
        "outputId": "137d874e-f79f-4f30-b9f9-93ba0eb71cdc"
      },
      "execution_count": 55,
      "outputs": [
        {
          "output_type": "stream",
          "name": "stdout",
          "text": [
            "('LG', 'SK', 'Apple', 'Samaung')\n"
          ]
        }
      ]
    },
    {
      "cell_type": "code",
      "source": [
        "t = (\"감\",\"밤\",\"대추\")\n",
        "l = list(t)\n",
        "l.remove(\"대추\")\n",
        "t = tuple(l)\n",
        "print(t)"
      ],
      "metadata": {
        "colab": {
          "base_uri": "https://localhost:8080/"
        },
        "id": "qIJ5ZSaG_836",
        "outputId": "cb3536ba-c076-4c66-e347-7acdd9a9a933"
      },
      "execution_count": 56,
      "outputs": [
        {
          "output_type": "stream",
          "name": "stdout",
          "text": [
            "('감', '밤')\n"
          ]
        }
      ]
    },
    {
      "cell_type": "markdown",
      "source": [
        "## 3.Dict 사전자료형"
      ],
      "metadata": {
        "id": "vbRce0xDBoYu"
      }
    },
    {
      "cell_type": "code",
      "source": [
        "d = {\n",
        "    \"a\":1,\n",
        "    \"b\":2,\n",
        "    \"c\":3\n",
        "}\n",
        "print(d)\n",
        "print(type(d))"
      ],
      "metadata": {
        "colab": {
          "base_uri": "https://localhost:8080/"
        },
        "id": "TZpZCqbUBwv-",
        "outputId": "1e226cbb-5cfe-4f22-fc81-5d7714c28d73"
      },
      "execution_count": 58,
      "outputs": [
        {
          "output_type": "stream",
          "name": "stdout",
          "text": [
            "{'a': 1, 'b': 2, 'c': 3}\n",
            "<class 'dict'>\n"
          ]
        }
      ]
    },
    {
      "cell_type": "code",
      "source": [
        "d = {\n",
        "    \"a\":1,\n",
        "    \"b\":2,\n",
        "    \"c\":3\n",
        "}\n",
        "print(d.keys())\n",
        "print(d.values())\n",
        "print(d.items())"
      ],
      "metadata": {
        "colab": {
          "base_uri": "https://localhost:8080/"
        },
        "id": "xiadrig7CMyz",
        "outputId": "f7f32435-30f6-4d34-ac84-2c21a439bcbf"
      },
      "execution_count": 59,
      "outputs": [
        {
          "output_type": "stream",
          "name": "stdout",
          "text": [
            "dict_keys(['a', 'b', 'c'])\n",
            "dict_values([1, 2, 3])\n",
            "dict_items([('a', 1), ('b', 2), ('c', 3)])\n"
          ]
        }
      ]
    },
    {
      "cell_type": "code",
      "source": [
        "car = {\n",
        "    \"maker\" : \"Hyundai\",\n",
        "    \"Mobel\" : \"Pony2\",\n",
        "    \"year\" : 1994 \n",
        "}\n",
        "print(car)\n",
        "print(len(car))\n",
        "car[\"year\"] = 2000\n",
        "print(car)\n",
        "car[\"color\"] = \"Blue\"\n",
        "print(car)\n",
        "print(car[\"maker\"])"
      ],
      "metadata": {
        "colab": {
          "base_uri": "https://localhost:8080/"
        },
        "id": "k2kx4btACjAP",
        "outputId": "cc5fa9ae-64d9-485f-e49c-7971de71ad16"
      },
      "execution_count": 63,
      "outputs": [
        {
          "output_type": "stream",
          "name": "stdout",
          "text": [
            "{'maker': 'Hyundai', 'Mobel': 'Pony2', 'year': 1994}\n",
            "3\n",
            "{'maker': 'Hyundai', 'Mobel': 'Pony2', 'year': 2000}\n",
            "{'maker': 'Hyundai', 'Mobel': 'Pony2', 'year': 2000, 'color': 'Blue'}\n",
            "Hyundai\n"
          ]
        }
      ]
    },
    {
      "cell_type": "code",
      "source": [
        "car = {\n",
        "    \"maker\" : \"BMW\",\n",
        "    \"Mobel\" : \"740Li\",\n",
        "    \"year\" : 2023 \n",
        "}\n",
        "car.pop(\"model\") # 해당 키값을 삭제\n",
        "print(car)"
      ],
      "metadata": {
        "colab": {
          "base_uri": "https://localhost:8080/",
          "height": 229
        },
        "id": "EcnlF06wESFY",
        "outputId": "8e9c0645-c86d-452b-ff46-3917b6242be8"
      },
      "execution_count": 81,
      "outputs": [
        {
          "output_type": "error",
          "ename": "KeyError",
          "evalue": "ignored",
          "traceback": [
            "\u001b[0;31m---------------------------------------------------------------------------\u001b[0m",
            "\u001b[0;31mKeyError\u001b[0m                                  Traceback (most recent call last)",
            "\u001b[0;32m<ipython-input-81-d2626ccd8de2>\u001b[0m in \u001b[0;36m<module>\u001b[0;34m\u001b[0m\n\u001b[1;32m      4\u001b[0m     \u001b[0;34m\"year\"\u001b[0m \u001b[0;34m:\u001b[0m \u001b[0;36m2023\u001b[0m\u001b[0;34m\u001b[0m\u001b[0;34m\u001b[0m\u001b[0m\n\u001b[1;32m      5\u001b[0m }\n\u001b[0;32m----> 6\u001b[0;31m \u001b[0mcar\u001b[0m\u001b[0;34m.\u001b[0m\u001b[0mpop\u001b[0m\u001b[0;34m(\u001b[0m\u001b[0;34m\"model\"\u001b[0m\u001b[0;34m)\u001b[0m \u001b[0;31m# 해당 키값을 삭제\u001b[0m\u001b[0;34m\u001b[0m\u001b[0;34m\u001b[0m\u001b[0m\n\u001b[0m\u001b[1;32m      7\u001b[0m \u001b[0mprint\u001b[0m\u001b[0;34m(\u001b[0m\u001b[0mcar\u001b[0m\u001b[0;34m)\u001b[0m\u001b[0;34m\u001b[0m\u001b[0;34m\u001b[0m\u001b[0m\n",
            "\u001b[0;31mKeyError\u001b[0m: 'model'"
          ]
        }
      ]
    },
    {
      "cell_type": "code",
      "source": [
        "car = {\n",
        "    \"maker\" : \"BMW\",\n",
        "    \"Mobel\" : \"740Li\",\n",
        "    \"year\" : 2023 \n",
        "}\n",
        "car.popitem()\n",
        "print(car)\n"
      ],
      "metadata": {
        "colab": {
          "base_uri": "https://localhost:8080/"
        },
        "id": "AWyrpPFjE5nu",
        "outputId": "e729f652-db6f-4012-a637-17da750e400a"
      },
      "execution_count": 74,
      "outputs": [
        {
          "output_type": "stream",
          "name": "stdout",
          "text": [
            "{'maker': 'BMW', 'Mobel': '740Li'}\n"
          ]
        }
      ]
    },
    {
      "cell_type": "code",
      "source": [
        "car = {\n",
        "    \"maker\" : \"BMW\",\n",
        "    \"Mobel\" : \"740Li\",\n",
        "    \"year\" : 2023 \n",
        "}\n",
        "car.clear()\n",
        "print(car)\n",
        "car[\"maker\"] = \"KIA\"\n",
        "print(car)\n"
      ],
      "metadata": {
        "colab": {
          "base_uri": "https://localhost:8080/"
        },
        "id": "kdDhEbXMFKbe",
        "outputId": "887f2be6-0c22-403a-e526-89c327321365"
      },
      "execution_count": 71,
      "outputs": [
        {
          "output_type": "stream",
          "name": "stdout",
          "text": [
            "{}\n",
            "{'maker': 'KIA'}\n"
          ]
        }
      ]
    },
    {
      "cell_type": "code",
      "source": [
        "car = {\n",
        "    \"maker\" : \"BMW\",\n",
        "    \"Mobel\" : \"740Li\",\n",
        "    \"year\" : 2023 \n",
        "}\n",
        "del car\n",
        "# print(car)"
      ],
      "metadata": {
        "id": "y9MEC647FtTm"
      },
      "execution_count": 76,
      "outputs": []
    },
    {
      "cell_type": "code",
      "source": [
        "car = {\n",
        "    \"maker\" : \"BMW\",\n",
        "    \"Mobel\" : \"740Li\",\n",
        "    \"year\" : 2023 \n",
        "}\n",
        "for x in car:\n",
        "  print(car[x])"
      ],
      "metadata": {
        "colab": {
          "base_uri": "https://localhost:8080/"
        },
        "id": "JWdet3QZGHqV",
        "outputId": "bcf5db2a-0975-4737-db8c-9b143552a590"
      },
      "execution_count": 77,
      "outputs": [
        {
          "output_type": "stream",
          "name": "stdout",
          "text": [
            "BMW\n",
            "740Li\n",
            "2023\n"
          ]
        }
      ]
    },
    {
      "cell_type": "code",
      "source": [
        "car = {\n",
        "    \"maker\" : \"BMW\",\n",
        "    \"Mobel\" : \"740Li\",\n",
        "    \"year\" : 2023 \n",
        "}\n",
        "for x in car.keys():\n",
        "  print(x)"
      ],
      "metadata": {
        "colab": {
          "base_uri": "https://localhost:8080/"
        },
        "id": "XYlmR6vyGXHY",
        "outputId": "3d68b885-25c2-40c5-baaa-a21c02e98f96"
      },
      "execution_count": 78,
      "outputs": [
        {
          "output_type": "stream",
          "name": "stdout",
          "text": [
            "maker\n",
            "Mobel\n",
            "year\n"
          ]
        }
      ]
    },
    {
      "cell_type": "code",
      "source": [
        "car = {\n",
        "    \"maker\" : \"BMW\",\n",
        "    \"Mobel\" : \"740Li\",\n",
        "    \"year\" : 2023 \n",
        "}\n",
        "for x in car.values():\n",
        "  print(x)"
      ],
      "metadata": {
        "colab": {
          "base_uri": "https://localhost:8080/"
        },
        "id": "6SnfeiChGkQS",
        "outputId": "5f8522e7-679f-49d8-91c4-7598d8ee1ed4"
      },
      "execution_count": 79,
      "outputs": [
        {
          "output_type": "stream",
          "name": "stdout",
          "text": [
            "BMW\n",
            "740Li\n",
            "2023\n"
          ]
        }
      ]
    },
    {
      "cell_type": "code",
      "source": [
        "car = {\n",
        "    \"maker\" : \"BMW\",\n",
        "    \"Mobel\" : \"i4\",\n",
        "    \"year\" : 2023 \n",
        "}\n",
        "for x,y in car .items():\n",
        "  print(x,y)"
      ],
      "metadata": {
        "colab": {
          "base_uri": "https://localhost:8080/"
        },
        "id": "v6YwkpRqGvnL",
        "outputId": "c45a7386-f5d8-4acc-f272-d0680be3040f"
      },
      "execution_count": 84,
      "outputs": [
        {
          "output_type": "stream",
          "name": "stdout",
          "text": [
            "maker BMW\n",
            "Mobel i4\n",
            "year 2023\n"
          ]
        }
      ]
    },
    {
      "cell_type": "code",
      "source": [
        "car = {\n",
        "    \"maker\" : \"BMW\",\n",
        "    \"Mobel\" : \"i4\",\n",
        "    \"year\" : 2023 \n",
        "}\n",
        "myCar = car.copy()\n",
        "print(myCar)\n"
      ],
      "metadata": {
        "colab": {
          "base_uri": "https://localhost:8080/"
        },
        "id": "TB7SUjghHOS6",
        "outputId": "50aa9cca-00df-415f-87a8-4dd510c67ffa"
      },
      "execution_count": 85,
      "outputs": [
        {
          "output_type": "stream",
          "name": "stdout",
          "text": [
            "{'maker': 'BMW', 'Mobel': 'i4', 'year': 2023}\n"
          ]
        }
      ]
    },
    {
      "cell_type": "code",
      "source": [
        "food = {\n",
        "    \"brand\":\"Lotte\",\n",
        "    \"model\":\"lce Cream\",\n",
        "    \"print\":2000\n",
        "}\n",
        "myFood = dict(food)\n",
        "print(myFood)"
      ],
      "metadata": {
        "colab": {
          "base_uri": "https://localhost:8080/"
        },
        "id": "st9tv_IEHs8x",
        "outputId": "47de6a48-075a-4678-967a-c8eb055eb1ba"
      },
      "execution_count": 86,
      "outputs": [
        {
          "output_type": "stream",
          "name": "stdout",
          "text": [
            "{'brand': 'Lotte', 'model': 'lce Cream', 'print': 2000}\n"
          ]
        }
      ]
    },
    {
      "cell_type": "code",
      "source": [
        "name1 = {\"name\":\"김삿갓\",\"year\": 1900}\n",
        "name2 = {\"name\":\"홍길동\",\"year\": 1800}\n",
        "name3 = {\"name\":\"김유진\",\"year\": 2000} \n",
        "family = {\n",
        "    \"name1\" : name1,\n",
        "    \"name2\" : name2,\n",
        "    \"name3\" : name3 \n",
        "}\n",
        "print(family)"
      ],
      "metadata": {
        "colab": {
          "base_uri": "https://localhost:8080/"
        },
        "id": "5B4x1ldIIZHP",
        "outputId": "87faeb01-6144-4dbf-d341-1cb2329b592e"
      },
      "execution_count": 91,
      "outputs": [
        {
          "output_type": "stream",
          "name": "stdout",
          "text": [
            "{'name1': {'name': '김삿갓', 'year': 1900}, 'name2': {'name': '홍길동', 'year': 1800}, 'name3': {'name': '김유진', 'year': 2000}}\n"
          ]
        }
      ]
    },
    {
      "cell_type": "code",
      "source": [
        "이름 = {\"이름\":\"신호준\"}\n",
        "전화번호 = {\"전화번호\":\"01085079954\"}\n",
        "family = {\n",
        "    \"이름\" : 이름,\n",
        "    \"전화번호\" : 전화번호,\n",
        "}\n",
        "print(family)"
      ],
      "metadata": {
        "colab": {
          "base_uri": "https://localhost:8080/"
        },
        "id": "3wdWtJbvJ7MH",
        "outputId": "6815597f-0fa2-4101-b929-6cf96fefcfb6"
      },
      "execution_count": 99,
      "outputs": [
        {
          "output_type": "stream",
          "name": "stdout",
          "text": [
            "{'이름': {'이름': '신호준'}, '전화번호': {'전화번호': '01085079954'}}\n"
          ]
        }
      ]
    },
    {
      "cell_type": "markdown",
      "source": [
        "# Quiz\n",
        "이름과 전화번호를 입력 받아 사전 자료형으로 저장하세요"
      ],
      "metadata": {
        "id": "h5Sbz32VKEVm"
      }
    },
    {
      "cell_type": "code",
      "source": [
        "name1 = {\n",
        "    \"name\" : \"\"\n",
        "    \"number\" : \"\",\n",
        "}\n",
        "priviate =(input(\"1번 이름을 입력하세요\"))\n",
        "name1[\"name\"] = (priviate)\n",
        "num1 =(input(\"1번 인물의 전화번호를 입력하세요\"))\n",
        "print(name1)"
      ],
      "metadata": {
        "colab": {
          "base_uri": "https://localhost:8080/",
          "height": 137
        },
        "id": "pfokhYvrMi6g",
        "outputId": "d2624d51-41bf-4d7d-84d3-f4165e522073"
      },
      "execution_count": 101,
      "outputs": [
        {
          "output_type": "error",
          "ename": "SyntaxError",
          "evalue": "ignored",
          "traceback": [
            "\u001b[0;36m  File \u001b[0;32m\"<ipython-input-101-7c9ce6ed0789>\"\u001b[0;36m, line \u001b[0;32m3\u001b[0m\n\u001b[0;31m    \"number\" : \"\",\u001b[0m\n\u001b[0m             ^\u001b[0m\n\u001b[0;31mSyntaxError\u001b[0m\u001b[0;31m:\u001b[0m invalid syntax\n"
          ]
        }
      ]
    }
  ]
}