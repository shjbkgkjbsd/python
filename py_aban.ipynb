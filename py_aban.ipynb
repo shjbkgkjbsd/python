{
  "nbformat": 4,
  "nbformat_minor": 0,
  "metadata": {
    "colab": {
      "provenance": [],
      "authorship_tag": "ABX9TyNyF51CmXEax338dufgOZvB",
      "include_colab_link": true
    },
    "kernelspec": {
      "name": "python3",
      "display_name": "Python 3"
    },
    "language_info": {
      "name": "python"
    }
  },
  "cells": [
    {
      "cell_type": "markdown",
      "metadata": {
        "id": "view-in-github",
        "colab_type": "text"
      },
      "source": [
        "<a href=\"https://colab.research.google.com/github/shjbkgkjbsd/python/blob/main/py_aban.ipynb\" target=\"_parent\"><img src=\"https://colab.research.google.com/assets/colab-badge.svg\" alt=\"Open In Colab\"/></a>"
      ]
    },
    {
      "cell_type": "code",
      "execution_count": null,
      "metadata": {
        "id": "twUVWwsWgPAG"
      },
      "outputs": [],
      "source": []
    },
    {
      "cell_type": "markdown",
      "source": [
        "#ch1. 파이썬 문법\n",
        "## 자료형\n",
        "**숫자형**  \n",
        "* 정수 : 123, 456, 0, -30  \n",
        "* 실수 : 12.345, -987,65, 0, 7e6  \n",
        "* 8진수 : 0o765, 0o123  \n",
        "* 16진수 : 0x0d, 0x0A, 0xFF  \n",
        "\n",
        "**변수**\n",
        "* 문자 또는 밑줄로 시작 (_kim, alpha)  \n",
        "* 대소문자 구분(sum, Sum, SUM)  \n",
        "*  영문자, 숫자, 밑줄(A-Z, 0-9, _)  \n",
        "ex) sun_9, Alpha, s9n)  \n",
        "* 파이썬 키워드 (pr int,,,)  \n",
        "\n",
        "**표기법**  \n",
        "+ 카멜(낙타) : myName  \n",
        "+ 스네이크(뱀) : my_name  \n",
        "+ 파스칼 : MyName  \n"
      ],
      "metadata": {
        "id": "YjCmxJsnh0cr"
      }
    },
    {
      "cell_type": "code",
      "source": [
        "a = 10\n",
        "b = 20\n",
        "f = \"10\"\n",
        "c = a + b\n",
        "print(a,b,c,f)"
      ],
      "metadata": {
        "colab": {
          "base_uri": "https://localhost:8080/"
        },
        "id": "gbQ3umTmlbXd",
        "outputId": "fc30674a-8304-4931-84c8-cf05d34bbb31"
      },
      "execution_count": null,
      "outputs": [
        {
          "output_type": "stream",
          "name": "stdout",
          "text": [
            "10 20 30 10\n"
          ]
        }
      ]
    },
    {
      "cell_type": "code",
      "source": [
        "a = 10\n",
        "b = 20\n",
        "c = \"10\" # 주석\n",
        "d = \"20\"\n",
        "# print(a+b)\n",
        "print(type(a))\n",
        "print(type(b))\n",
        "print(c+d)\n",
        "print(c,d)"
      ],
      "metadata": {
        "colab": {
          "base_uri": "https://localhost:8080/"
        },
        "id": "Wx1uGhrSl-Ss",
        "outputId": "4be6cae3-e0d3-4172-fad4-69682cecbff3"
      },
      "execution_count": null,
      "outputs": [
        {
          "output_type": "stream",
          "name": "stdout",
          "text": [
            "<class 'int'>\n",
            "<class 'int'>\n",
            "1020\n",
            "10 20\n"
          ]
        }
      ]
    },
    {
      "cell_type": "code",
      "source": [
        "#  나눗셈\n",
        "a = 10\n",
        "b = 3\n",
        "c = a / b\n",
        "d = a // b # 몫\n",
        "e = a % b # 나머지\n",
        "print(c,d,e)"
      ],
      "metadata": {
        "colab": {
          "base_uri": "https://localhost:8080/"
        },
        "id": "SqwrWbEMqda_",
        "outputId": "f8763761-6027-4e24-ff7e-947513809a28"
      },
      "execution_count": null,
      "outputs": [
        {
          "output_type": "stream",
          "name": "stdout",
          "text": [
            "3.3333333333333335 3 1\n"
          ]
        }
      ]
    },
    {
      "cell_type": "code",
      "source": [
        "# 곱셈\n",
        "a = 10\n",
        "b = 3\n",
        "c = a * b #곱하기\n",
        "d = a**b # 제곱\n",
        "print(c, d)"
      ],
      "metadata": {
        "colab": {
          "base_uri": "https://localhost:8080/"
        },
        "id": "a7oxIAnMrCFd",
        "outputId": "559788be-ddff-4b17-8844-2258f89fb83f"
      },
      "execution_count": null,
      "outputs": [
        {
          "output_type": "stream",
          "name": "stdout",
          "text": [
            "30 1000\n"
          ]
        }
      ]
    },
    {
      "cell_type": "markdown",
      "source": [
        "#### 문자열  \n",
        "1. 큰따움표 : \"Lang Kim\"  \n",
        "2. 작은 따움표 : \"Lang Kim\" \n",
        "3. 큰따움표3개 : \"\"\"대한민국\"\"\"  \n",
        "4.작은따움표3개 : \"\"\"대한민국\"\"\"  \n",
        "5. \"동해물과 백두산이 마르고 닳도록 Kim's\"  \n"
      ],
      "metadata": {
        "id": "qVtaIifCrn4z"
      }
    },
    {
      "cell_type": "code",
      "source": [
        "# 변수\n",
        "myName = \"Kim Lang Ki\"\n",
        "my_name = \"김랑기\"\n",
        "_my_name = \"korea\"\n",
        "MYNAME = \"코리아\"\n",
        "my2name = \"kikiki\"\n",
        "# 2myname = \"숫자먼저\"\n",
        "# my-name = \"마이너스\"\n",
        "# my name = \"스페이스\"\n",
        "myName1 = 1234\n",
        "myName2 = \"1234\"\n",
        "print(type(myName1))\n",
        "print(type(myName2))"
      ],
      "metadata": {
        "colab": {
          "base_uri": "https://localhost:8080/"
        },
        "id": "56tIWh5usbyP",
        "outputId": "481e71fe-4d56-422a-caad-474ffea71b7b"
      },
      "execution_count": null,
      "outputs": [
        {
          "output_type": "stream",
          "name": "stdout",
          "text": [
            "<class 'int'>\n",
            "<class 'str'>\n"
          ]
        }
      ]
    },
    {
      "cell_type": "code",
      "source": [
        "a=b=c= \"브라보콘\"\n",
        "print(a)\n",
        "print(b)\n",
        "print(c)\n"
      ],
      "metadata": {
        "colab": {
          "base_uri": "https://localhost:8080/"
        },
        "id": "z_lV3eu_vAOn",
        "outputId": "66c065e9-f230-4e82-f72c-f6ae602eabe3"
      },
      "execution_count": null,
      "outputs": [
        {
          "output_type": "stream",
          "name": "stdout",
          "text": [
            "브라보콘\n",
            "브라보콘\n",
            "브라보콘\n"
          ]
        }
      ]
    },
    {
      "cell_type": "code",
      "source": [
        "x,y,z = \"딸기\",\"포도\",\"바나나\"\n",
        "print(x)\n",
        "print(y)\n",
        "print(z)"
      ],
      "metadata": {
        "colab": {
          "base_uri": "https://localhost:8080/"
        },
        "id": "NoTT4PZFvPX3",
        "outputId": "e88e3beb-d02e-4d4f-d0b7-40a53c9bcec4"
      },
      "execution_count": null,
      "outputs": [
        {
          "output_type": "stream",
          "name": "stdout",
          "text": [
            "딸기\n",
            "포도\n",
            "바나나\n"
          ]
        }
      ]
    },
    {
      "cell_type": "code",
      "source": [
        "fruits = [\"누가바\", \"쌍쌍바\", \"보석바\"]\n",
        "x,y,z = fruits\n",
        "print(x)\n",
        "print(y)\n",
        "print(z)"
      ],
      "metadata": {
        "colab": {
          "base_uri": "https://localhost:8080/"
        },
        "id": "xYoYDiSGv5X3",
        "outputId": "36629c40-068f-4b81-84f7-eaa684246729"
      },
      "execution_count": null,
      "outputs": [
        {
          "output_type": "stream",
          "name": "stdout",
          "text": [
            "누가바\n",
            "쌍쌍바\n",
            "보석바\n"
          ]
        }
      ]
    },
    {
      "cell_type": "code",
      "source": [
        "x = \"Life\"\n",
        "y = \"is\"\n",
        "z = \"beautiful!\"\n",
        "print(x,y,z)\n",
        "print(x+y+z)"
      ],
      "metadata": {
        "colab": {
          "base_uri": "https://localhost:8080/"
        },
        "id": "aybR103xwgN5",
        "outputId": "16c09f05-bcb6-464b-8438-53133ac75021"
      },
      "execution_count": null,
      "outputs": [
        {
          "output_type": "stream",
          "name": "stdout",
          "text": [
            "Life is beautiful!\n",
            "Lifeisbeautiful!\n"
          ]
        }
      ]
    },
    {
      "cell_type": "code",
      "source": [
        "a = 1\n",
        "b = 2\n",
        "c = 3\n",
        "print(a+b+c)\n",
        "print(a,b,c)"
      ],
      "metadata": {
        "colab": {
          "base_uri": "https://localhost:8080/"
        },
        "id": "62XAecbExDTY",
        "outputId": "2fc8aaa4-56bc-4225-d413-84aee6699504"
      },
      "execution_count": 29,
      "outputs": [
        {
          "output_type": "stream",
          "name": "stdout",
          "text": [
            "6\n",
            "1 2 3\n"
          ]
        }
      ]
    },
    {
      "cell_type": "code",
      "source": [
        "a = '1'\n",
        "b = '2'\n",
        "c = '3'\n",
        "print(a+b+c)\n",
        "print(a,b,c)"
      ],
      "metadata": {
        "colab": {
          "base_uri": "https://localhost:8080/"
        },
        "id": "0Ll_hEfVxSCA",
        "outputId": "5ad24563-5d3c-43f9-a99f-a68852a52819"
      },
      "execution_count": 28,
      "outputs": [
        {
          "output_type": "stream",
          "name": "stdout",
          "text": [
            "123\n",
            "1 2 3\n"
          ]
        }
      ]
    },
    {
      "cell_type": "code",
      "source": [
        " a = 1; b = 2\n",
        " a,b = b,a\n",
        " print(a,b)"
      ],
      "metadata": {
        "colab": {
          "base_uri": "https://localhost:8080/"
        },
        "id": "_AweXGmo7wuT",
        "outputId": "3a2402a6-b8ca-4843-ba94-8af03611101b"
      },
      "execution_count": 27,
      "outputs": [
        {
          "output_type": "stream",
          "name": "stdout",
          "text": [
            "2 1\n"
          ]
        }
      ]
    },
    {
      "cell_type": "code",
      "source": [
        " b = 2:c = 3\n",
        " # c = (b=b+c) # error"
      ],
      "metadata": {
        "colab": {
          "base_uri": "https://localhost:8080/",
          "height": 137
        },
        "id": "tHu9VHw88VoL",
        "outputId": "d76905fe-d39b-4048-b9b2-7e20bd2bf011"
      },
      "execution_count": null,
      "outputs": [
        {
          "output_type": "error",
          "ename": "SyntaxError",
          "evalue": "ignored",
          "traceback": [
            "\u001b[0;36m  File \u001b[0;32m\"<ipython-input-26-0be05968caeb>\"\u001b[0;36m, line \u001b[0;32m1\u001b[0m\n\u001b[0;31m    b = 2:c = 3\u001b[0m\n\u001b[0m         ^\u001b[0m\n\u001b[0;31mSyntaxError\u001b[0m\u001b[0;31m:\u001b[0m invalid syntax\n"
          ]
        }
      ]
    },
    {
      "cell_type": "code",
      "source": [
        "1 a=1;b=2;c=3\n",
        "\n"
      ],
      "metadata": {
        "id": "rTu6kE8B8uSy"
      },
      "execution_count": null,
      "outputs": []
    },
    {
      "cell_type": "code",
      "source": [
        " # len()\n",
        " a = \"123456\"\n",
        " b = [1,2,3,4]\n",
        " print(len(a))\n",
        " print(len(b))"
      ],
      "metadata": {
        "colab": {
          "base_uri": "https://localhost:8080/"
        },
        "id": "XuKmeDEr9H8D",
        "outputId": "6c40a322-3dab-446d-ae58-75a9dae50780"
      },
      "execution_count": 25,
      "outputs": [
        {
          "output_type": "stream",
          "name": "stdout",
          "text": [
            "6\n",
            "4\n"
          ]
        }
      ]
    },
    {
      "cell_type": "markdown",
      "source": [],
      "metadata": {
        "id": "yFWMElu_nSQ4"
      }
    },
    {
      "cell_type": "code",
      "source": [
        "a = 100\n",
        "b = 200\n",
        "result = a + b\n",
        "print(a,'+',b, \"=\",result)\n",
        "result = a - b\n",
        "print(a,'-',b, \"=\",result)\n",
        "result = a / b\n",
        "print(a,'/',b, \"=\",result)\n",
        "result = a * b\n",
        "print(a,'*',b, \"=\",result)"
      ],
      "metadata": {
        "colab": {
          "base_uri": "https://localhost:8080/"
        },
        "id": "2bYG4otN9r6T",
        "outputId": "0f12d08e-5e99-40f6-c276-879f88dadaaa"
      },
      "execution_count": 26,
      "outputs": [
        {
          "output_type": "stream",
          "name": "stdout",
          "text": [
            "100 + 200 = 300\n",
            "100 - 200 = -100\n",
            "100 / 200 = 0.5\n",
            "100 * 200 = 20000\n"
          ]
        }
      ]
    },
    {
      "cell_type": "code",
      "source": [
        "a = \"1234\"\n",
        "b = 5678\n",
        "c = int(a) + b\n",
        "print(c)"
      ],
      "metadata": {
        "colab": {
          "base_uri": "https://localhost:8080/"
        },
        "id": "QqOegC34ApmM",
        "outputId": "3f847558-b2ef-4b1d-b09f-8baae9e5b6c7"
      },
      "execution_count": null,
      "outputs": [
        {
          "output_type": "stream",
          "name": "stdout",
          "text": [
            "6912\n"
          ]
        }
      ]
    },
    {
      "cell_type": "code",
      "source": [
        "# 계산기 2\n",
        "num1 = int(input(\"숫자입력1:\"))\n",
        "num2 = int(input(\"숫자입력2:\"))\n",
        "\n",
        "print(num1,'+',num2, \"=\",result)\n",
        "result = num1 + num2\n",
        "print(num1,'-',num2, \"=\",result)\n",
        "result = num1 - num2\n",
        "print(num1,'*',num2, \"=\",result)\n",
        "result = num1 * num2\n",
        "print(num1,'/',num2, \"=\",result)\n",
        "result = num1 / num2\n"
      ],
      "metadata": {
        "colab": {
          "base_uri": "https://localhost:8080/"
        },
        "id": "-4lzvkt9BNts",
        "outputId": "446fc8c9-bf75-427e-87ff-a517e3981753"
      },
      "execution_count": 31,
      "outputs": [
        {
          "output_type": "stream",
          "name": "stdout",
          "text": [
            "숫자입력1:10\n",
            "숫자입력2:1\n",
            "10 + 1 = 20000\n",
            "10 - 1 = 11\n",
            "10 * 1 = 9\n",
            "10 / 1 = 10\n"
          ]
        }
      ]
    },
    {
      "cell_type": "code",
      "source": [
        "# 자기이름, 전화번호, 택배(g)*100, \n",
        "#결과값= g *100원 = 00원 입니다.\n",
        "num1 = input(이름)\n",
        "y = \"전화번호:010-8507-9954\"\n",
        "z = \"택배(g)*100원\"\n",
        "\n",
        "print(x)\n",
        "print(y)\n",
        "print(z)"
      ],
      "metadata": {
        "colab": {
          "base_uri": "https://localhost:8080/",
          "height": 248
        },
        "id": "jQJfrSAVEAjW",
        "outputId": "35b151a8-f675-4f13-9850-9821e261e408"
      },
      "execution_count": 30,
      "outputs": [
        {
          "output_type": "error",
          "ename": "NameError",
          "evalue": "ignored",
          "traceback": [
            "\u001b[0;31m---------------------------------------------------------------------------\u001b[0m",
            "\u001b[0;31mNameError\u001b[0m                                 Traceback (most recent call last)",
            "\u001b[0;32m<ipython-input-30-7efb7de4c86b>\u001b[0m in \u001b[0;36m<module>\u001b[0;34m\u001b[0m\n\u001b[1;32m      1\u001b[0m \u001b[0;31m# 자기이름, 전화번호, 택배(g)*100,\u001b[0m\u001b[0;34m\u001b[0m\u001b[0;34m\u001b[0m\u001b[0m\n\u001b[1;32m      2\u001b[0m \u001b[0;31m#결과값= g *100원 = 00원 입니다.\u001b[0m\u001b[0;34m\u001b[0m\u001b[0;34m\u001b[0m\u001b[0m\n\u001b[0;32m----> 3\u001b[0;31m \u001b[0mnum1\u001b[0m \u001b[0;34m=\u001b[0m \u001b[0minput\u001b[0m\u001b[0;34m(\u001b[0m\u001b[0m이름\u001b[0m\u001b[0;34m)\u001b[0m\u001b[0;34m\u001b[0m\u001b[0;34m\u001b[0m\u001b[0m\n\u001b[0m\u001b[1;32m      4\u001b[0m \u001b[0my\u001b[0m \u001b[0;34m=\u001b[0m \u001b[0;34m\"전화번호:010-8507-9954\"\u001b[0m\u001b[0;34m\u001b[0m\u001b[0;34m\u001b[0m\u001b[0m\n\u001b[1;32m      5\u001b[0m \u001b[0mz\u001b[0m \u001b[0;34m=\u001b[0m \u001b[0;34m\"택배(g)*100원\"\u001b[0m\u001b[0;34m\u001b[0m\u001b[0;34m\u001b[0m\u001b[0m\n",
            "\u001b[0;31mNameError\u001b[0m: name '이름' is not defined"
          ]
        }
      ]
    },
    {
      "cell_type": "markdown",
      "source": [
        "# CH2. 서식 추력 print()"
      ],
      "metadata": {
        "id": "ZnlPsEmXiZFa"
      }
    },
    {
      "cell_type": "code",
      "source": [
        "print (\"%d\" % 123)\n",
        "print (\"%5d\" % 123)\n",
        "print (\"%05d\" % 123)\n",
        "\n",
        "print (\"%f\" % 123.45)\n",
        "print (\"%7.1f\" % 123.45)\n",
        "print (\"%7.3f\" % 123.45)\n",
        "\n",
        "print (\"%c\" % \"1\")\n",
        "print (\"%s\" % \"가나다라\")\n",
        "print (\"%6s\" % \"가나다라\")\n",
        "print (\"%6s\" % \"abcd\")"
      ],
      "metadata": {
        "colab": {
          "base_uri": "https://localhost:8080/"
        },
        "id": "DT1qgcKRinIp",
        "outputId": "5466e24d-47ea-4c7f-ea33-012f85730211"
      },
      "execution_count": 4,
      "outputs": [
        {
          "output_type": "stream",
          "name": "stdout",
          "text": [
            "123\n",
            "  123\n",
            "00123\n",
            "123.450000\n",
            "  123.5\n",
            "123.450\n",
            "1\n",
            "가나다라\n",
            "  가나다라\n",
            "  abcd\n"
          ]
        }
      ]
    },
    {
      "cell_type": "markdown",
      "source": [
        "#### 순서를 지정 기능 : format"
      ],
      "metadata": {
        "id": "7jstaA-kkPJP"
      }
    },
    {
      "cell_type": "code",
      "source": [
        "print (\"{0:d} {1:5d} {2:05d}\".format(123,456,789))"
      ],
      "metadata": {
        "colab": {
          "base_uri": "https://localhost:8080/"
        },
        "id": "Spk7fEfekc7k",
        "outputId": "f745f593-8e81-4dc1-aa04-f242b9d91670"
      },
      "execution_count": 12,
      "outputs": [
        {
          "output_type": "stream",
          "name": "stdout",
          "text": [
            "123   456 00789\n"
          ]
        }
      ]
    },
    {
      "cell_type": "code",
      "source": [
        "print (\"{2:d} {1:5d} {0:05d}\".format(123,456,789))"
      ],
      "metadata": {
        "colab": {
          "base_uri": "https://localhost:8080/"
        },
        "id": "BzvLpZGqmp4m",
        "outputId": "9ad031ca-c015-4543-8eb7-8de5b0b03e61"
      },
      "execution_count": 13,
      "outputs": [
        {
          "output_type": "stream",
          "name": "stdout",
          "text": [
            "789   456 00123\n"
          ]
        }
      ]
    },
    {
      "cell_type": "markdown",
      "source": [
        "서식 출력"
      ],
      "metadata": {
        "id": "7GqXOtOGk_yn"
      }
    },
    {
      "cell_type": "code",
      "source": [
        "print(\"\\n줄 바꿈 명령 \\n연습 입니다.\")"
      ],
      "metadata": {
        "colab": {
          "base_uri": "https://localhost:8080/"
        },
        "id": "ygzZdwSFlCxH",
        "outputId": "72843896-56c7-42cd-d718-513b01db4b0f"
      },
      "execution_count": 6,
      "outputs": [
        {
          "output_type": "stream",
          "name": "stdout",
          "text": [
            "\n",
            "줄 바꿈 명령 \n",
            "연습 입니다.\n"
          ]
        }
      ]
    },
    {
      "cell_type": "code",
      "source": [
        "print(\"\\t탭키 명령 \\t연습 입니다.\")"
      ],
      "metadata": {
        "colab": {
          "base_uri": "https://localhost:8080/"
        },
        "id": "Ogdtb1DRlVz1",
        "outputId": "b95c2dfa-9a53-4298-c4e6-ea73e1b1ae89"
      },
      "execution_count": 7,
      "outputs": [
        {
          "output_type": "stream",
          "name": "stdout",
          "text": [
            "\t탭키 명령 \t연습 입니다.\n"
          ]
        }
      ]
    },
    {
      "cell_type": "code",
      "source": [
        "print(\"따옴표 글자가 \\\"강조\\\"되는 효과1 \")\n",
        "print(\"따옴표 글자가 \\'강조\\'되는 효과2 \")\n",
        "print(\"역슬래시 3개를 출력하려면 \\\\\\\\\\\\ 6개\")\n",
        "print(r\"\\n \\t \\\"\\\\ \\' @를 그대로 출력\")"
      ],
      "metadata": {
        "colab": {
          "base_uri": "https://localhost:8080/"
        },
        "id": "eggNLwv2lgUc",
        "outputId": "c4065282-8848-4980-9a5e-1ae029756530"
      },
      "execution_count": 9,
      "outputs": [
        {
          "output_type": "stream",
          "name": "stdout",
          "text": [
            "따옴표 글자가 \"강조\"되는 효과1 \n",
            "따옴표 글자가 '강조'되는 효과2 \n",
            "역슬래시 3개를 출력하려면 \\\\\\ 6개\n",
            "\\n \\t \\\"\\\\ \\' @를 그대로 출력\n"
          ]
        }
      ]
    },
    {
      "cell_type": "markdown",
      "source": [
        "관계 연산자"
      ],
      "metadata": {
        "id": "yQE2oXSnuohu"
      }
    },
    {
      "cell_type": "code",
      "source": [
        "a,b= 10,20\n",
        "print(a==b,a!=b,a>=b,a>=b,a>b,a<b)"
      ],
      "metadata": {
        "colab": {
          "base_uri": "https://localhost:8080/"
        },
        "id": "Ip8CRWP8urqf",
        "outputId": "41d14b4c-55f1-46fa-f5e4-063b6749d713"
      },
      "execution_count": 14,
      "outputs": [
        {
          "output_type": "stream",
          "name": "stdout",
          "text": [
            "False True False False False True\n"
          ]
        }
      ]
    },
    {
      "cell_type": "markdown",
      "source": [
        "논리 연산자 and,or,not"
      ],
      "metadata": {
        "id": "OKWyzlAtvL9W"
      }
    },
    {
      "cell_type": "code",
      "source": [
        "a = 95\n",
        "print((a>100) and (a<200)) # 100<a<200\n",
        "print((a<100) or (a>200)) #a<100 , a>200\n",
        "print(not(a==100)) # a<=99 , a>=101"
      ],
      "metadata": {
        "colab": {
          "base_uri": "https://localhost:8080/"
        },
        "id": "lUmtokhcvT-z",
        "outputId": "99933b1d-f9ef-4329-ce82-8bc2d1f3beed"
      },
      "execution_count": 18,
      "outputs": [
        {
          "output_type": "stream",
          "name": "stdout",
          "text": [
            "False\n",
            "True\n",
            "True\n"
          ]
        }
      ]
    },
    {
      "cell_type": "code",
      "source": [
        "if(10):\n",
        "  print(\"참이면 실행되어 보임\")\n",
        "  if(0):\n",
        "    print(\"것짓이면 안보임\")"
      ],
      "metadata": {
        "colab": {
          "base_uri": "https://localhost:8080/"
        },
        "id": "1oq7bZ56wcIJ",
        "outputId": "93c4b7e2-b57a-4276-acd1-266d7e65c0ed"
      },
      "execution_count": 24,
      "outputs": [
        {
          "output_type": "stream",
          "name": "stdout",
          "text": [
            "참이면 실행되어 보임\n"
          ]
        }
      ]
    },
    {
      "cell_type": "markdown",
      "source": [
        "#### 퀴즈2 // 몫 % 나머지 money=int(input(\"입력)) 지폐 금액입력 후 동전으로 교환시 (500원, 100원, 50원, 10원)  \n",
        "money, c500, c100, c50, c10  \n",
        "500원 : ?  \n",
        "100원 : ?  \n",
        "50원 : ?  \n",
        "10원 : ?  \n",
        "나머지 : ?"
      ],
      "metadata": {
        "id": "VNWBLVHcxAlR"
      }
    },
    {
      "cell_type": "code",
      "source": [
        "\n",
        "money,c500,c100,c50,c10 = 0,0,0,0,0\n",
        "money = int(input(\"동전으로 교환할 돈은?:\"))\n",
        "temp = money\n",
        "c500 = money // 500 # 몫\n",
        "money %= 500 #money = money % 500\n",
        "c100 = money // 100 \n",
        "money %= 100\n",
        "c50 = money // 50 \n",
        "money %= 50\n",
        "c10 = money // 10 \n",
        "money %= 10 #1~9\n",
        "print(\"입력받은 돈은 %d원\" % money )\n",
        "print(\"500원 동전 : %d\" % c500)\n",
        "print(\"100원 동전 : %d\" % c500)\n",
        "print(\"50원 동전 : %d\" % c500)\n",
        "print(\"10원 동전 : %d\" % c500)\n",
        "print(\"나머지 잔돈 : %d\" % money)"
      ],
      "metadata": {
        "colab": {
          "base_uri": "https://localhost:8080/"
        },
        "id": "smm5e88cyUcN",
        "outputId": "666efa49-db17-4e17-e83c-5e214ce45cae"
      },
      "execution_count": 36,
      "outputs": [
        {
          "output_type": "stream",
          "name": "stdout",
          "text": [
            "동전으로 교환할 돈은?:1284\n",
            "입력받은 돈은 4원\n",
            "500원 동전 : 2\n",
            "100원 동전 : 2\n",
            "50원 동전 : 2\n",
            "10원 동전 : 2\n",
            "나머지 잔돈 : 4\n"
          ]
        }
      ]
    },
    {
      "cell_type": "code",
      "source": [
        "a = 50\n",
        "if(a < 100):\n",
        "  print(\"100보다 작으면 참\")\n",
        "  print(\"것이지면 이문장은 보이지 않음)\")\n",
        "  print(\"프로그램 끝\")"
      ],
      "metadata": {
        "colab": {
          "base_uri": "https://localhost:8080/"
        },
        "id": "2MdaGjI26opv",
        "outputId": "59a0f16d-af28-4eca-97e5-3b255fa09817"
      },
      "execution_count": 37,
      "outputs": [
        {
          "output_type": "stream",
          "name": "stdout",
          "text": [
            "100보다 작으면 참\n",
            "것이지면 이문장은 보이지 않음)\n",
            "프로그램 끝\n"
          ]
        }
      ]
    },
    {
      "cell_type": "code",
      "source": [
        "a=200\n",
        "if(a<100):\n",
        "  print(\"100보다 작음\")\n",
        "else :\n",
        " print(\"거짓:조건보다 크면\")\n",
        "print(\"프로그램 끝\")"
      ],
      "metadata": {
        "colab": {
          "base_uri": "https://localhost:8080/"
        },
        "id": "CNWVBlD_7VaN",
        "outputId": "04832b28-2a0f-471a-9c68-6f5b8c7613e7"
      },
      "execution_count": 41,
      "outputs": [
        {
          "output_type": "stream",
          "name": "stdout",
          "text": [
            "거짓:조건보다 크면\n",
            "프로그램 끝\n"
          ]
        }
      ]
    },
    {
      "cell_type": "code",
      "source": [
        "#홀짝 구분\n",
        "a = int(input(\"숫자 입력:\"))\n",
        "if(a%2==0):\n",
        "  print(\"짝수 입니다.\")\n",
        "else:\n",
        "  print(\"홀수 입니다.\")\n"
      ],
      "metadata": {
        "colab": {
          "base_uri": "https://localhost:8080/"
        },
        "id": "mnmGxBb-8Thd",
        "outputId": "2fd49551-6b10-4e01-c7cb-2f1782e8076f"
      },
      "execution_count": 52,
      "outputs": [
        {
          "output_type": "stream",
          "name": "stdout",
          "text": [
            "숫자 입력:25\n",
            "홀수 입니다.\n"
          ]
        }
      ]
    },
    {
      "cell_type": "code",
      "source": [
        "a = int(input(\"숫자입력:\"))\n",
        "if (a>50):\n",
        "  if(a<100):\n",
        "    print(\"50<a<100\")\n",
        "  else:\n",
        "   print(\"a>100\")\n",
        "else:\n",
        " if(a>25):\n",
        "  print(\"25<a<50\")\n",
        " else:\n",
        "  print(\"a<25\")"
      ],
      "metadata": {
        "colab": {
          "base_uri": "https://localhost:8080/"
        },
        "id": "aa4s9W0s9AM0",
        "outputId": "e2ecf598-3c59-425e-b5ba-65ad3f86eabe"
      },
      "execution_count": 44,
      "outputs": [
        {
          "output_type": "stream",
          "name": "stdout",
          "text": [
            "숫자입력:30\n",
            "25<a<50\n"
          ]
        }
      ]
    },
    {
      "cell_type": "code",
      "source": [
        "fruit = ['사과','배','샤이머스켓','바나나']\n",
        "fruit.append('망고')\n",
        "if '망고' in fruit :\n",
        " print(\"망고가 있습니다.\")\n",
        "print(fruit)"
      ],
      "metadata": {
        "colab": {
          "base_uri": "https://localhost:8080/"
        },
        "id": "gQ8MYi1i_qQz",
        "outputId": "91a57e3b-0ef9-4ac3-a0ec-e16ad1b74622"
      },
      "execution_count": 47,
      "outputs": [
        {
          "output_type": "stream",
          "name": "stdout",
          "text": [
            "망고가 있습니다.\n",
            "['사과', '배', '샤이머스켓', '바나나', '망고']\n"
          ]
        }
      ]
    },
    {
      "cell_type": "code",
      "source": [
        "for i in range(1,3,1): #시작값,끝값+1,증가값\n",
        "  print(\"%d 안녕하세요.\" % i)\n",
        "print(\"환영합니다.\")"
      ],
      "metadata": {
        "colab": {
          "base_uri": "https://localhost:8080/"
        },
        "id": "CDER_VwXAq0I",
        "outputId": "ba91c4f9-749d-4c28-d825-60d710d9abd5"
      },
      "execution_count": 51,
      "outputs": [
        {
          "output_type": "stream",
          "name": "stdout",
          "text": [
            "1 안녕하세요.\n",
            "2 안녕하세요.\n",
            "환영합니다.\n"
          ]
        }
      ]
    },
    {
      "cell_type": "code",
      "source": [
        "import random\n",
        "num = []\n",
        "for i in range(0,6):\n",
        " num.append(random.randrange(1,5))\n",
        "  print (\"생성 리스트\". num)"
      ],
      "metadata": {
        "colab": {
          "base_uri": "https://localhost:8080/",
          "height": 211
        },
        "id": "EBwtQkrSB-5Q",
        "outputId": "7332d3d1-1106-4b84-ffc5-a79aede5212b"
      },
      "execution_count": 59,
      "outputs": [
        {
          "output_type": "error",
          "ename": "AttributeError",
          "evalue": "ignored",
          "traceback": [
            "\u001b[0;31m---------------------------------------------------------------------------\u001b[0m",
            "\u001b[0;31mAttributeError\u001b[0m                            Traceback (most recent call last)",
            "\u001b[0;32m<ipython-input-59-8b3f0283e652>\u001b[0m in \u001b[0;36m<module>\u001b[0;34m\u001b[0m\n\u001b[1;32m      3\u001b[0m \u001b[0;32mfor\u001b[0m \u001b[0mi\u001b[0m \u001b[0;32min\u001b[0m \u001b[0mrange\u001b[0m\u001b[0;34m(\u001b[0m\u001b[0;36m0\u001b[0m\u001b[0;34m,\u001b[0m\u001b[0;36m6\u001b[0m\u001b[0;34m)\u001b[0m\u001b[0;34m:\u001b[0m\u001b[0;34m\u001b[0m\u001b[0;34m\u001b[0m\u001b[0m\n\u001b[1;32m      4\u001b[0m  \u001b[0mnum\u001b[0m\u001b[0;34m.\u001b[0m\u001b[0mappend\u001b[0m\u001b[0;34m(\u001b[0m\u001b[0mrandom\u001b[0m\u001b[0;34m.\u001b[0m\u001b[0mrandrange\u001b[0m\u001b[0;34m(\u001b[0m\u001b[0;36m1\u001b[0m\u001b[0;34m,\u001b[0m\u001b[0;36m5\u001b[0m\u001b[0;34m)\u001b[0m\u001b[0;34m)\u001b[0m\u001b[0;34m\u001b[0m\u001b[0;34m\u001b[0m\u001b[0m\n\u001b[0;32m----> 5\u001b[0;31m \u001b[0mprint\u001b[0m \u001b[0;34m(\u001b[0m\u001b[0;34m\"생성 리스트\"\u001b[0m\u001b[0;34m.\u001b[0m \u001b[0mnum\u001b[0m\u001b[0;34m)\u001b[0m\u001b[0;34m\u001b[0m\u001b[0;34m\u001b[0m\u001b[0m\n\u001b[0m",
            "\u001b[0;31mAttributeError\u001b[0m: 'str' object has no attribute 'num'"
          ]
        }
      ]
    },
    {
      "cell_type": "code",
      "source": [
        " for i in range(1,9,1):\n",
        "  print(\"%d\"%i, end= '\\t')\n",
        "  #print(\"\\n\")\n",
        " for i in range(1,9,1):\n",
        "  print(\"%d\"% i, end= '\\t')"
      ],
      "metadata": {
        "colab": {
          "base_uri": "https://localhost:8080/"
        },
        "id": "8NvdmJDFDlLp",
        "outputId": "0e4e00e3-cc8f-44e5-d61b-f4f05952ea7b"
      },
      "execution_count": 62,
      "outputs": [
        {
          "output_type": "stream",
          "name": "stdout",
          "text": [
            "1\t2\t3\t4\t5\t6\t7\t8\t1\t2\t3\t4\t5\t6\t7\t8\t"
          ]
        }
      ]
    },
    {
      "cell_type": "code",
      "source": [
        " sum = 0\n",
        " for i in range(1,11,1):\n",
        "  sum = sum + i\n",
        " print(\"1부터 10까지의 합:%d\" % sum)"
      ],
      "metadata": {
        "colab": {
          "base_uri": "https://localhost:8080/"
        },
        "id": "Pn32g2PPEXQf",
        "outputId": "383bedb1-1295-4907-9c8a-4d744800bc91"
      },
      "execution_count": 68,
      "outputs": [
        {
          "output_type": "stream",
          "name": "stdout",
          "text": [
            "1부터 10까지의 합:55\n"
          ]
        }
      ]
    },
    {
      "cell_type": "code",
      "source": [
        " sum,num=0,0\n",
        " num = int(input(\"숫자입력:\"))\n",
        " for i in range(1,num+1,1):\n",
        "  sum = sum +i\n",
        " print(\"1~n까지의 합 :%d\" %sum )"
      ],
      "metadata": {
        "colab": {
          "base_uri": "https://localhost:8080/"
        },
        "id": "Z6o0wFrTFU83",
        "outputId": "f7e45a21-06ee-4059-f464-57b7a751b826"
      },
      "execution_count": 69,
      "outputs": [
        {
          "output_type": "stream",
          "name": "stdout",
          "text": [
            "숫자입력:10000\n",
            "1~n까지의 합 :50005000\n"
          ]
        }
      ]
    },
    {
      "cell_type": "code",
      "source": [
        " i,j,k=0,0,0\n",
        " for i in range(2,10,1):\n",
        "  for j in range(1,10,1):\n",
        "    print(\"%d *%d = %2d\" % (i,j,i*j))\n",
        "  print(\"\")"
      ],
      "metadata": {
        "id": "jCC56LVsGUyG"
      },
      "execution_count": null,
      "outputs": []
    },
    {
      "cell_type": "markdown",
      "source": [
        "### Quiz3 구구단을 만들고 2,3,4,5 줄바꿔서 6,7,8,9을 출력하시오."
      ],
      "metadata": {
        "id": "-aNL-NeXHc6O"
      }
    },
    {
      "cell_type": "code",
      "source": [
        " i,j,k=0,0,0\n",
        " for i in range(2,10,1):\n",
        "  for j in range(1,10,1):\n",
        "    print(\"%d *%d = %2d\" % (i,j,i*j))\n",
        "  print(\"\")\n",
        "  for i in range(2,6,1):\n",
        "   print(\"%d\"%i, end= '\\t')\n",
        "  #print(\"\\n\")\n",
        " for i in range(2,10,1):\n",
        "  print(\"%d\"% i, end= '\\t')"
      ],
      "metadata": {
        "id": "jLzHyG3QHuc9"
      },
      "execution_count": null,
      "outputs": []
    },
    {
      "cell_type": "code",
      "source": [
        " for i in range(2, 6,1):\n",
        "    for k in range(1, 10):\n",
        "      for j in range(4):\n",
        "        print(i, \"X\", j, \"=\", i * j, end = '\\t')\n",
        "        if(j == 9):\n",
        "            print()"
      ],
      "metadata": {
        "colab": {
          "base_uri": "https://localhost:8080/"
        },
        "id": "NCQAFaXYMMGl",
        "outputId": "6eade10e-eb4c-43d7-ae31-217fd7e6f27d"
      },
      "execution_count": 86,
      "outputs": [
        {
          "output_type": "stream",
          "name": "stdout",
          "text": [
            "2 X 0 = 0\t2 X 1 = 2\t2 X 2 = 4\t2 X 3 = 6\t2 X 0 = 0\t2 X 1 = 2\t2 X 2 = 4\t2 X 3 = 6\t2 X 0 = 0\t2 X 1 = 2\t2 X 2 = 4\t2 X 3 = 6\t2 X 0 = 0\t2 X 1 = 2\t2 X 2 = 4\t2 X 3 = 6\t2 X 0 = 0\t2 X 1 = 2\t2 X 2 = 4\t2 X 3 = 6\t2 X 0 = 0\t2 X 1 = 2\t2 X 2 = 4\t2 X 3 = 6\t2 X 0 = 0\t2 X 1 = 2\t2 X 2 = 4\t2 X 3 = 6\t2 X 0 = 0\t2 X 1 = 2\t2 X 2 = 4\t2 X 3 = 6\t2 X 0 = 0\t2 X 1 = 2\t2 X 2 = 4\t2 X 3 = 6\t3 X 0 = 0\t3 X 1 = 3\t3 X 2 = 6\t3 X 3 = 9\t3 X 0 = 0\t3 X 1 = 3\t3 X 2 = 6\t3 X 3 = 9\t3 X 0 = 0\t3 X 1 = 3\t3 X 2 = 6\t3 X 3 = 9\t3 X 0 = 0\t3 X 1 = 3\t3 X 2 = 6\t3 X 3 = 9\t3 X 0 = 0\t3 X 1 = 3\t3 X 2 = 6\t3 X 3 = 9\t3 X 0 = 0\t3 X 1 = 3\t3 X 2 = 6\t3 X 3 = 9\t3 X 0 = 0\t3 X 1 = 3\t3 X 2 = 6\t3 X 3 = 9\t3 X 0 = 0\t3 X 1 = 3\t3 X 2 = 6\t3 X 3 = 9\t3 X 0 = 0\t3 X 1 = 3\t3 X 2 = 6\t3 X 3 = 9\t4 X 0 = 0\t4 X 1 = 4\t4 X 2 = 8\t4 X 3 = 12\t4 X 0 = 0\t4 X 1 = 4\t4 X 2 = 8\t4 X 3 = 12\t4 X 0 = 0\t4 X 1 = 4\t4 X 2 = 8\t4 X 3 = 12\t4 X 0 = 0\t4 X 1 = 4\t4 X 2 = 8\t4 X 3 = 12\t4 X 0 = 0\t4 X 1 = 4\t4 X 2 = 8\t4 X 3 = 12\t4 X 0 = 0\t4 X 1 = 4\t4 X 2 = 8\t4 X 3 = 12\t4 X 0 = 0\t4 X 1 = 4\t4 X 2 = 8\t4 X 3 = 12\t4 X 0 = 0\t4 X 1 = 4\t4 X 2 = 8\t4 X 3 = 12\t4 X 0 = 0\t4 X 1 = 4\t4 X 2 = 8\t4 X 3 = 12\t5 X 0 = 0\t5 X 1 = 5\t5 X 2 = 10\t5 X 3 = 15\t5 X 0 = 0\t5 X 1 = 5\t5 X 2 = 10\t5 X 3 = 15\t5 X 0 = 0\t5 X 1 = 5\t5 X 2 = 10\t5 X 3 = 15\t5 X 0 = 0\t5 X 1 = 5\t5 X 2 = 10\t5 X 3 = 15\t5 X 0 = 0\t5 X 1 = 5\t5 X 2 = 10\t5 X 3 = 15\t5 X 0 = 0\t5 X 1 = 5\t5 X 2 = 10\t5 X 3 = 15\t5 X 0 = 0\t5 X 1 = 5\t5 X 2 = 10\t5 X 3 = 15\t5 X 0 = 0\t5 X 1 = 5\t5 X 2 = 10\t5 X 3 = 15\t5 X 0 = 0\t5 X 1 = 5\t5 X 2 = 10\t5 X 3 = 15\t"
          ]
        }
      ]
    }
  ]
}